{
 "cells": [
  {
   "cell_type": "markdown",
   "metadata": {},
   "source": [
    "<h1 align=\"center\"> Analysis of FIFA 19 Complete Dataset and Development of A Model for Player Wages Prediction </h1>\n",
    "<h3 align=\"center\"> By Prosper Ayawah </h3>"
   ]
  },
  {
   "cell_type": "markdown",
   "metadata": {},
   "source": [
    "# Introduction: \n",
    "The business problem that we want to take on is involved in the professional world of soccer. We want to help professional soccer orgainzations help predict the potential benefits a player will add to their orgainzation. This could help organizations determine how much they want to invest in a player and this could help them in budgeting when it comes to finalizing rosters. All of this data will be able to allow organizations to rank players from most valuable to least valuable."
   ]
  },
  {
   "cell_type": "markdown",
   "metadata": {},
   "source": [
    "# High Level Requirements: \n",
    "This dataset has a total of 89 columns and 18206 entries. The goal is to take this massive amount of player data and be able to form into graphs, charts, and rankings to display which players are the best to have in your soccer orgainzations.\n",
    "\n",
    "Some of the questions we have are: \n",
    "1. Does age have any affect on their ranking?\n",
    "2. Does their wage correlate with their ranking? \n",
    "3. What positions are the highest paid? \n",
    "4. What does a soccer organizations need to focus on in order to improve their team? \n",
    "5. Does their position affect their wage? \n",
    "6. Do the highest paid players have the best potential overall?\n",
    "\n",
    "Ultimately, we want to develop a predictive model for predicting the wages of soccer players"
   ]
  },
  {
   "cell_type": "markdown",
   "metadata": {},
   "source": [
    "# Data Source:\n",
    "- Kaggle - FIFA dataset\n",
    "\n",
    "- 18206 Observations\n",
    "\n",
    "- 89 Columns "
   ]
  },
  {
   "cell_type": "code",
   "execution_count": 1,
   "metadata": {},
   "outputs": [
    {
     "name": "stdout",
     "output_type": "stream",
     "text": [
      "Populating the interactive namespace from numpy and matplotlib\n"
     ]
    }
   ],
   "source": [
    "import pandas as pd\n",
    "import seaborn as sb\n",
    "import matplotlib.pyplot as plt\n",
    "import locale\n",
    "from sklearn.preprocessing import scale\n",
    "from sklearn.decomposition import PCA\n",
    "%pylab inline"
   ]
  },
  {
   "cell_type": "markdown",
   "metadata": {},
   "source": [
    "## 1. Load and explore data"
   ]
  },
  {
   "cell_type": "code",
   "execution_count": 2,
   "metadata": {},
   "outputs": [],
   "source": [
    "#importing dataset - makes sure to download it into the same folder as all your other python stuff\n",
    "#The dataset is huge - give it some time to run. We can work on cutting it down later.\n",
    "dat = pd.read_csv('data.csv', index_col=0)\n",
    "#dat.info()"
   ]
  },
  {
   "cell_type": "code",
   "execution_count": 3,
   "metadata": {},
   "outputs": [
    {
     "data": {
      "text/plain": [
       "18207"
      ]
     },
     "execution_count": 3,
     "metadata": {},
     "output_type": "execute_result"
    }
   ],
   "source": [
    "# the number of observastions, meets the requirement\n",
    "len(dat)"
   ]
  },
  {
   "cell_type": "code",
   "execution_count": 4,
   "metadata": {},
   "outputs": [
    {
     "data": {
      "text/plain": [
       "88"
      ]
     },
     "execution_count": 4,
     "metadata": {},
     "output_type": "execute_result"
    }
   ],
   "source": [
    "#The number of columns, meets the requirement \n",
    "len(dat.columns)"
   ]
  },
  {
   "cell_type": "code",
   "execution_count": 5,
   "metadata": {},
   "outputs": [
    {
     "data": {
      "text/html": [
       "<div>\n",
       "<style scoped>\n",
       "    .dataframe tbody tr th:only-of-type {\n",
       "        vertical-align: middle;\n",
       "    }\n",
       "\n",
       "    .dataframe tbody tr th {\n",
       "        vertical-align: top;\n",
       "    }\n",
       "\n",
       "    .dataframe thead th {\n",
       "        text-align: right;\n",
       "    }\n",
       "</style>\n",
       "<table border=\"1\" class=\"dataframe\">\n",
       "  <thead>\n",
       "    <tr style=\"text-align: right;\">\n",
       "      <th></th>\n",
       "      <th>ID</th>\n",
       "      <th>Name</th>\n",
       "      <th>Age</th>\n",
       "      <th>Photo</th>\n",
       "      <th>Nationality</th>\n",
       "      <th>Flag</th>\n",
       "      <th>Overall</th>\n",
       "      <th>Potential</th>\n",
       "      <th>Club</th>\n",
       "      <th>Club Logo</th>\n",
       "      <th>...</th>\n",
       "      <th>Composure</th>\n",
       "      <th>Marking</th>\n",
       "      <th>StandingTackle</th>\n",
       "      <th>SlidingTackle</th>\n",
       "      <th>GKDiving</th>\n",
       "      <th>GKHandling</th>\n",
       "      <th>GKKicking</th>\n",
       "      <th>GKPositioning</th>\n",
       "      <th>GKReflexes</th>\n",
       "      <th>Release Clause</th>\n",
       "    </tr>\n",
       "  </thead>\n",
       "  <tbody>\n",
       "    <tr>\n",
       "      <th>0</th>\n",
       "      <td>158023</td>\n",
       "      <td>L. Messi</td>\n",
       "      <td>31</td>\n",
       "      <td>https://cdn.sofifa.org/players/4/19/158023.png</td>\n",
       "      <td>Argentina</td>\n",
       "      <td>https://cdn.sofifa.org/flags/52.png</td>\n",
       "      <td>94</td>\n",
       "      <td>94</td>\n",
       "      <td>FC Barcelona</td>\n",
       "      <td>https://cdn.sofifa.org/teams/2/light/241.png</td>\n",
       "      <td>...</td>\n",
       "      <td>96.0</td>\n",
       "      <td>33.0</td>\n",
       "      <td>28.0</td>\n",
       "      <td>26.0</td>\n",
       "      <td>6.0</td>\n",
       "      <td>11.0</td>\n",
       "      <td>15.0</td>\n",
       "      <td>14.0</td>\n",
       "      <td>8.0</td>\n",
       "      <td>€226.5M</td>\n",
       "    </tr>\n",
       "    <tr>\n",
       "      <th>1</th>\n",
       "      <td>20801</td>\n",
       "      <td>Cristiano Ronaldo</td>\n",
       "      <td>33</td>\n",
       "      <td>https://cdn.sofifa.org/players/4/19/20801.png</td>\n",
       "      <td>Portugal</td>\n",
       "      <td>https://cdn.sofifa.org/flags/38.png</td>\n",
       "      <td>94</td>\n",
       "      <td>94</td>\n",
       "      <td>Juventus</td>\n",
       "      <td>https://cdn.sofifa.org/teams/2/light/45.png</td>\n",
       "      <td>...</td>\n",
       "      <td>95.0</td>\n",
       "      <td>28.0</td>\n",
       "      <td>31.0</td>\n",
       "      <td>23.0</td>\n",
       "      <td>7.0</td>\n",
       "      <td>11.0</td>\n",
       "      <td>15.0</td>\n",
       "      <td>14.0</td>\n",
       "      <td>11.0</td>\n",
       "      <td>€127.1M</td>\n",
       "    </tr>\n",
       "    <tr>\n",
       "      <th>2</th>\n",
       "      <td>190871</td>\n",
       "      <td>Neymar Jr</td>\n",
       "      <td>26</td>\n",
       "      <td>https://cdn.sofifa.org/players/4/19/190871.png</td>\n",
       "      <td>Brazil</td>\n",
       "      <td>https://cdn.sofifa.org/flags/54.png</td>\n",
       "      <td>92</td>\n",
       "      <td>93</td>\n",
       "      <td>Paris Saint-Germain</td>\n",
       "      <td>https://cdn.sofifa.org/teams/2/light/73.png</td>\n",
       "      <td>...</td>\n",
       "      <td>94.0</td>\n",
       "      <td>27.0</td>\n",
       "      <td>24.0</td>\n",
       "      <td>33.0</td>\n",
       "      <td>9.0</td>\n",
       "      <td>9.0</td>\n",
       "      <td>15.0</td>\n",
       "      <td>15.0</td>\n",
       "      <td>11.0</td>\n",
       "      <td>€228.1M</td>\n",
       "    </tr>\n",
       "    <tr>\n",
       "      <th>3</th>\n",
       "      <td>193080</td>\n",
       "      <td>De Gea</td>\n",
       "      <td>27</td>\n",
       "      <td>https://cdn.sofifa.org/players/4/19/193080.png</td>\n",
       "      <td>Spain</td>\n",
       "      <td>https://cdn.sofifa.org/flags/45.png</td>\n",
       "      <td>91</td>\n",
       "      <td>93</td>\n",
       "      <td>Manchester United</td>\n",
       "      <td>https://cdn.sofifa.org/teams/2/light/11.png</td>\n",
       "      <td>...</td>\n",
       "      <td>68.0</td>\n",
       "      <td>15.0</td>\n",
       "      <td>21.0</td>\n",
       "      <td>13.0</td>\n",
       "      <td>90.0</td>\n",
       "      <td>85.0</td>\n",
       "      <td>87.0</td>\n",
       "      <td>88.0</td>\n",
       "      <td>94.0</td>\n",
       "      <td>€138.6M</td>\n",
       "    </tr>\n",
       "    <tr>\n",
       "      <th>4</th>\n",
       "      <td>192985</td>\n",
       "      <td>K. De Bruyne</td>\n",
       "      <td>27</td>\n",
       "      <td>https://cdn.sofifa.org/players/4/19/192985.png</td>\n",
       "      <td>Belgium</td>\n",
       "      <td>https://cdn.sofifa.org/flags/7.png</td>\n",
       "      <td>91</td>\n",
       "      <td>92</td>\n",
       "      <td>Manchester City</td>\n",
       "      <td>https://cdn.sofifa.org/teams/2/light/10.png</td>\n",
       "      <td>...</td>\n",
       "      <td>88.0</td>\n",
       "      <td>68.0</td>\n",
       "      <td>58.0</td>\n",
       "      <td>51.0</td>\n",
       "      <td>15.0</td>\n",
       "      <td>13.0</td>\n",
       "      <td>5.0</td>\n",
       "      <td>10.0</td>\n",
       "      <td>13.0</td>\n",
       "      <td>€196.4M</td>\n",
       "    </tr>\n",
       "  </tbody>\n",
       "</table>\n",
       "<p>5 rows × 88 columns</p>\n",
       "</div>"
      ],
      "text/plain": [
       "       ID               Name  Age  \\\n",
       "0  158023           L. Messi   31   \n",
       "1   20801  Cristiano Ronaldo   33   \n",
       "2  190871          Neymar Jr   26   \n",
       "3  193080             De Gea   27   \n",
       "4  192985       K. De Bruyne   27   \n",
       "\n",
       "                                            Photo Nationality  \\\n",
       "0  https://cdn.sofifa.org/players/4/19/158023.png   Argentina   \n",
       "1   https://cdn.sofifa.org/players/4/19/20801.png    Portugal   \n",
       "2  https://cdn.sofifa.org/players/4/19/190871.png      Brazil   \n",
       "3  https://cdn.sofifa.org/players/4/19/193080.png       Spain   \n",
       "4  https://cdn.sofifa.org/players/4/19/192985.png     Belgium   \n",
       "\n",
       "                                  Flag  Overall  Potential  \\\n",
       "0  https://cdn.sofifa.org/flags/52.png       94         94   \n",
       "1  https://cdn.sofifa.org/flags/38.png       94         94   \n",
       "2  https://cdn.sofifa.org/flags/54.png       92         93   \n",
       "3  https://cdn.sofifa.org/flags/45.png       91         93   \n",
       "4   https://cdn.sofifa.org/flags/7.png       91         92   \n",
       "\n",
       "                  Club                                     Club Logo  ...  \\\n",
       "0         FC Barcelona  https://cdn.sofifa.org/teams/2/light/241.png  ...   \n",
       "1             Juventus   https://cdn.sofifa.org/teams/2/light/45.png  ...   \n",
       "2  Paris Saint-Germain   https://cdn.sofifa.org/teams/2/light/73.png  ...   \n",
       "3    Manchester United   https://cdn.sofifa.org/teams/2/light/11.png  ...   \n",
       "4      Manchester City   https://cdn.sofifa.org/teams/2/light/10.png  ...   \n",
       "\n",
       "  Composure Marking  StandingTackle SlidingTackle  GKDiving  GKHandling  \\\n",
       "0      96.0    33.0            28.0          26.0       6.0        11.0   \n",
       "1      95.0    28.0            31.0          23.0       7.0        11.0   \n",
       "2      94.0    27.0            24.0          33.0       9.0         9.0   \n",
       "3      68.0    15.0            21.0          13.0      90.0        85.0   \n",
       "4      88.0    68.0            58.0          51.0      15.0        13.0   \n",
       "\n",
       "   GKKicking GKPositioning GKReflexes Release Clause  \n",
       "0       15.0          14.0        8.0        €226.5M  \n",
       "1       15.0          14.0       11.0        €127.1M  \n",
       "2       15.0          15.0       11.0        €228.1M  \n",
       "3       87.0          88.0       94.0        €138.6M  \n",
       "4        5.0          10.0       13.0        €196.4M  \n",
       "\n",
       "[5 rows x 88 columns]"
      ]
     },
     "execution_count": 5,
     "metadata": {},
     "output_type": "execute_result"
    }
   ],
   "source": [
    "#A quick look at the data. We won't care about some of the columns - Like pictures and stuff like that\n",
    "dat.head()"
   ]
  },
  {
   "cell_type": "code",
   "execution_count": 6,
   "metadata": {},
   "outputs": [
    {
     "data": {
      "text/plain": [
       "652"
      ]
     },
     "execution_count": 6,
     "metadata": {},
     "output_type": "execute_result"
    }
   ],
   "source": [
    "#number of unique clubs\n",
    "len(dat['Club'].unique())"
   ]
  },
  {
   "cell_type": "code",
   "execution_count": 7,
   "metadata": {},
   "outputs": [
    {
     "name": "stdout",
     "output_type": "stream",
     "text": [
      "Age is in the range [ 16 , 45 ]\n"
     ]
    }
   ],
   "source": [
    "#Age range\n",
    "datAge = dat [['Age']]\n",
    "for col in datAge.columns:\n",
    "    print(col + ' is in the range [',\n",
    "          min(datAge[col]),\n",
    "          ',',\n",
    "          max(datAge[col]),\n",
    "          ']')"
   ]
  },
  {
   "cell_type": "code",
   "execution_count": 8,
   "metadata": {},
   "outputs": [
    {
     "name": "stdout",
     "output_type": "stream",
     "text": [
      "Wage is in the range [ € 0 , €9K ]\n"
     ]
    }
   ],
   "source": [
    "#Wage range\n",
    "#we will need to clean up the 'K, once we learn how to'\n",
    "datWage = dat [['Wage']]\n",
    "for col in datWage.columns:\n",
    "    print(col + ' is in the range [',\n",
    "          min(datWage[col]),\n",
    "          ',',\n",
    "          max(datWage[col]),\n",
    "          ']')"
   ]
  },
  {
   "cell_type": "code",
   "execution_count": 9,
   "metadata": {},
   "outputs": [
    {
     "data": {
      "text/plain": [
       "164"
      ]
     },
     "execution_count": 9,
     "metadata": {},
     "output_type": "execute_result"
    }
   ],
   "source": [
    "#Number of unique nationalities \n",
    "len(dat['Nationality'].unique())"
   ]
  },
  {
   "cell_type": "markdown",
   "metadata": {},
   "source": [
    "## 2. Data Manupulation\n",
    "### 2.1 Drop all the columns that are irrelevant to the study"
   ]
  },
  {
   "cell_type": "markdown",
   "metadata": {},
   "source": [
    "Here, we are dropping all of the columns that we believe will not make a difference in ranking the players. This is intended to bring in more accurate results and generate solutions that will be more meaningful. "
   ]
  },
  {
   "cell_type": "code",
   "execution_count": 10,
   "metadata": {},
   "outputs": [],
   "source": [
    "dat = dat.drop(['ID','Photo','Flag','Club Logo','Real Face','Body Type',\n",
    "                'Loaned From','LS','ST','RS',\n",
    "               'LW','LF','CF','RF','RW','LAM','CAM','RAM','LM','LCM','CM',\n",
    "                'RCM','RM','LWB','LDM','CDM','RDM','RWB','LB','LCB','CB',\n",
    "               'RCB','RB','Special','Jersey Number'], axis = 1)\n"
   ]
  },
  {
   "cell_type": "markdown",
   "metadata": {},
   "source": [
    "### 2.2 Change the data type of some variable \n",
    "Here, we are manipulating some of the data so we can make it more meaningful."
   ]
  },
  {
   "cell_type": "code",
   "execution_count": 11,
   "metadata": {},
   "outputs": [],
   "source": [
    "# Converting the strings in Value to floats\n",
    "Val = dat['Value'].str.extract(\"([\\d.]+)\").astype(float)\n",
    "pattern = r'M'\n",
    "c_M = dat['Value'].str.contains(pattern)\n",
    "for i in range(0,len(dat)):\n",
    "    if c_M.loc[i] == True:\n",
    "        Val.loc[i] = Val.loc[i] * 1000000\n",
    "    else:\n",
    "        Val.loc[i] = Val.loc[i] * 1000\n",
    "dat['Value'] = Val\n",
    "\n",
    "# Converting the strings in Wage to floats\n",
    "dat['Wage'] = dat['Wage'].str.extract(\"([\\d.]+)\").astype(float)*1000"
   ]
  },
  {
   "cell_type": "code",
   "execution_count": 12,
   "metadata": {},
   "outputs": [],
   "source": [
    "# Converting the strings in Release Clause to floats\n",
    "Rel = dat['Release Clause'].str.extract(\"([\\d.]+)\").astype(float)\n",
    "pattern = r'M'\n",
    "c_M = dat['Release Clause'].str.contains(pattern)\n",
    "for i in range(0,len(dat)):\n",
    "    if c_M.loc[i] == True:\n",
    "        Rel.loc[i] = Rel.loc[i] * 1000000\n",
    "    else:\n",
    "        Rel.loc[i] = Rel.loc[i] * 1000\n",
    "dat['Release Clause'] = Rel"
   ]
  },
  {
   "cell_type": "code",
   "execution_count": 13,
   "metadata": {},
   "outputs": [],
   "source": [
    "# Converting the strings in Weight to floats\n",
    "dat['Weight'] = dat['Weight'].str.extract(\"([\\d.]+)\").astype(float)"
   ]
  },
  {
   "cell_type": "code",
   "execution_count": 14,
   "metadata": {},
   "outputs": [],
   "source": [
    "# Drop observation where 'Weight', 'Height' and 'Joined' have missing values\n",
    "dat = dat.dropna(subset=['Weight','Height','Joined'])\n",
    "# Drop observation where 'Value' is equal to zero\n",
    "dat = dat[dat.Value != 0]"
   ]
  },
  {
   "cell_type": "code",
   "execution_count": 15,
   "metadata": {},
   "outputs": [],
   "source": [
    "# Converting the strings in Height to floats\n",
    "h1 = dat['Height'].str.split('\\'')  \n",
    "hght = []\n",
    "for h1[i] in h1:\n",
    "    h2 = format(int(h1[i][0]) + (int(h1[i][1])/12), '.2f')\n",
    "    hght.append(h2)\n",
    "dat['Height'] = hght\n",
    "dat['Height'] = dat['Height'].astype(float)"
   ]
  },
  {
   "cell_type": "code",
   "execution_count": 16,
   "metadata": {},
   "outputs": [],
   "source": [
    "# Rename columns to include units\n",
    "dat = dat.rename(columns = {'Value':'Value (€)',\n",
    "                           'Wage':'Wage (€)',\n",
    "                           'Release Clause':'Release Clause (€)',\n",
    "                           'Height':'Height (ft)',\n",
    "                           'Weight':'Weight (lbs)',\n",
    "                           'Overall':'Overall Rating'})"
   ]
  },
  {
   "cell_type": "code",
   "execution_count": 17,
   "metadata": {},
   "outputs": [],
   "source": [
    "dat['Position'] = dat['Position'].astype('category')"
   ]
  },
  {
   "cell_type": "markdown",
   "metadata": {},
   "source": [
    "### 2.3 Create new columns"
   ]
  },
  {
   "cell_type": "code",
   "execution_count": 18,
   "metadata": {},
   "outputs": [],
   "source": [
    "# Convert date Joined to datetime\n",
    "from datetime import datetime\n",
    "d_t = []\n",
    "for i in dat['Joined']:\n",
    "    dt = datetime.strptime(str(i), '%d-%b-%y')\n",
    "    d_t.append(dt)\n",
    "dat['Joined'] = d_t"
   ]
  },
  {
   "cell_type": "code",
   "execution_count": 19,
   "metadata": {},
   "outputs": [],
   "source": [
    "# Extract joining year and subtract it from Contract Valid Until to get Contract Duration\n",
    "dat['Contract Duration'] = dat['Contract Valid Until'].astype(int) - dat['Joined'].dt.year.astype(int)"
   ]
  },
  {
   "cell_type": "code",
   "execution_count": 20,
   "metadata": {},
   "outputs": [],
   "source": [
    "# Drop Joined and Contract Valid Until\n",
    "dat = dat.drop(['Joined','Contract Valid Until'], axis = 1)"
   ]
  },
  {
   "cell_type": "code",
   "execution_count": 21,
   "metadata": {},
   "outputs": [],
   "source": [
    "# Split the work rate into two columns \n",
    "#(attack rate and defence work rate) and drop work rate\n",
    "WR = dat['Work Rate'].str.split('/', expand = True)\n",
    "WR.columns = ['Attack Rate', 'Defence Rate']\n",
    "\n",
    "# Attach WR to dat\n",
    "dat = pd.concat([dat, WR], axis = 1, sort = False)\n",
    "\n",
    "# Drop Work Rate\n",
    "dat = dat.drop(['Work Rate'], axis = 1)"
   ]
  },
  {
   "cell_type": "markdown",
   "metadata": {},
   "source": [
    "## 3. Summerization and Visualization"
   ]
  },
  {
   "cell_type": "markdown",
   "metadata": {},
   "source": [
    "Selecting the impactful data and putting it into a dataframe to help rank the players. The variables include:\n",
    "1. Name\n",
    "2. Age \n",
    "3. Nationality \n",
    "4. Overall rating \n",
    "5. Potential \n",
    "6. Club \n",
    "7. Value(€)\n",
    "8. Wage(€) \n",
    "9. Preferred Foot \n",
    "10. International Reputation \n",
    "11. Weak Foot \n",
    "12. Skill Moves \n",
    "13. Position \n",
    "14. Height(ft)\n",
    "15. Weight(lbs)\n",
    "16. Release Clause\n",
    "17. Contract Duration \n",
    "18. Attack Rate \n",
    "19. Defence Rate \n",
    "\n",
    "We believe these are the variables that are most accurately going to rank the players. These variables put value on the player and can be ranked in comparison to others while also maintaining valuable attributes. Some of the variables are used only to identify the player for example, their name and nationality, but the rest can be used to guide teams to acquire new players."
   ]
  },
  {
   "cell_type": "code",
   "execution_count": 22,
   "metadata": {},
   "outputs": [
    {
     "data": {
      "text/html": [
       "<div>\n",
       "<style scoped>\n",
       "    .dataframe tbody tr th:only-of-type {\n",
       "        vertical-align: middle;\n",
       "    }\n",
       "\n",
       "    .dataframe tbody tr th {\n",
       "        vertical-align: top;\n",
       "    }\n",
       "\n",
       "    .dataframe thead th {\n",
       "        text-align: right;\n",
       "    }\n",
       "</style>\n",
       "<table border=\"1\" class=\"dataframe\">\n",
       "  <thead>\n",
       "    <tr style=\"text-align: right;\">\n",
       "      <th></th>\n",
       "      <th>Name</th>\n",
       "      <th>Age</th>\n",
       "      <th>Nationality</th>\n",
       "      <th>Overall Rating</th>\n",
       "      <th>Potential</th>\n",
       "      <th>Club</th>\n",
       "      <th>Value (€)</th>\n",
       "      <th>Wage (€)</th>\n",
       "      <th>Preferred Foot</th>\n",
       "      <th>International Reputation</th>\n",
       "      <th>Weak Foot</th>\n",
       "      <th>Skill Moves</th>\n",
       "      <th>Position</th>\n",
       "      <th>Height (ft)</th>\n",
       "      <th>Weight (lbs)</th>\n",
       "      <th>Release Clause (€)</th>\n",
       "      <th>Contract Duration</th>\n",
       "      <th>Attack Rate</th>\n",
       "      <th>Defence Rate</th>\n",
       "    </tr>\n",
       "  </thead>\n",
       "  <tbody>\n",
       "    <tr>\n",
       "      <th>12931</th>\n",
       "      <td>T. Schilk</td>\n",
       "      <td>26</td>\n",
       "      <td>Germany</td>\n",
       "      <td>63</td>\n",
       "      <td>65</td>\n",
       "      <td>Hallescher FC</td>\n",
       "      <td>375000.0</td>\n",
       "      <td>1000.0</td>\n",
       "      <td>Right</td>\n",
       "      <td>1.0</td>\n",
       "      <td>4.0</td>\n",
       "      <td>2.0</td>\n",
       "      <td>RWB</td>\n",
       "      <td>6.17</td>\n",
       "      <td>165.0</td>\n",
       "      <td>572000.0</td>\n",
       "      <td>4</td>\n",
       "      <td>Medium</td>\n",
       "      <td>Medium</td>\n",
       "    </tr>\n",
       "    <tr>\n",
       "      <th>773</th>\n",
       "      <td>Bastos</td>\n",
       "      <td>26</td>\n",
       "      <td>Angola</td>\n",
       "      <td>78</td>\n",
       "      <td>79</td>\n",
       "      <td>Lazio</td>\n",
       "      <td>10000000.0</td>\n",
       "      <td>44000.0</td>\n",
       "      <td>Right</td>\n",
       "      <td>2.0</td>\n",
       "      <td>3.0</td>\n",
       "      <td>2.0</td>\n",
       "      <td>CB</td>\n",
       "      <td>5.92</td>\n",
       "      <td>170.0</td>\n",
       "      <td>17800000.0</td>\n",
       "      <td>4</td>\n",
       "      <td>Medium</td>\n",
       "      <td>High</td>\n",
       "    </tr>\n",
       "    <tr>\n",
       "      <th>1243</th>\n",
       "      <td>M. Uribe</td>\n",
       "      <td>27</td>\n",
       "      <td>Colombia</td>\n",
       "      <td>76</td>\n",
       "      <td>77</td>\n",
       "      <td>Club América</td>\n",
       "      <td>8500000.0</td>\n",
       "      <td>54000.0</td>\n",
       "      <td>Right</td>\n",
       "      <td>1.0</td>\n",
       "      <td>4.0</td>\n",
       "      <td>3.0</td>\n",
       "      <td>RCM</td>\n",
       "      <td>6.00</td>\n",
       "      <td>157.0</td>\n",
       "      <td>15100000.0</td>\n",
       "      <td>6</td>\n",
       "      <td>High</td>\n",
       "      <td>High</td>\n",
       "    </tr>\n",
       "    <tr>\n",
       "      <th>3126</th>\n",
       "      <td>K. Hansen</td>\n",
       "      <td>29</td>\n",
       "      <td>Denmark</td>\n",
       "      <td>73</td>\n",
       "      <td>73</td>\n",
       "      <td>FC Midtjylland</td>\n",
       "      <td>3100000.0</td>\n",
       "      <td>18000.0</td>\n",
       "      <td>Right</td>\n",
       "      <td>1.0</td>\n",
       "      <td>3.0</td>\n",
       "      <td>2.0</td>\n",
       "      <td>RCB</td>\n",
       "      <td>6.00</td>\n",
       "      <td>163.0</td>\n",
       "      <td>4000000.0</td>\n",
       "      <td>7</td>\n",
       "      <td>Medium</td>\n",
       "      <td>Medium</td>\n",
       "    </tr>\n",
       "    <tr>\n",
       "      <th>3141</th>\n",
       "      <td>J. Gutiérrez</td>\n",
       "      <td>34</td>\n",
       "      <td>Argentina</td>\n",
       "      <td>73</td>\n",
       "      <td>73</td>\n",
       "      <td>Defensa y Justicia</td>\n",
       "      <td>1900000.0</td>\n",
       "      <td>12000.0</td>\n",
       "      <td>Right</td>\n",
       "      <td>2.0</td>\n",
       "      <td>3.0</td>\n",
       "      <td>3.0</td>\n",
       "      <td>CM</td>\n",
       "      <td>6.00</td>\n",
       "      <td>183.0</td>\n",
       "      <td>2900000.0</td>\n",
       "      <td>4</td>\n",
       "      <td>Medium</td>\n",
       "      <td>High</td>\n",
       "    </tr>\n",
       "    <tr>\n",
       "      <th>4944</th>\n",
       "      <td>Rodrigo Pinho</td>\n",
       "      <td>27</td>\n",
       "      <td>Brazil</td>\n",
       "      <td>70</td>\n",
       "      <td>70</td>\n",
       "      <td>Clube Sport Marítimo</td>\n",
       "      <td>1900000.0</td>\n",
       "      <td>7000.0</td>\n",
       "      <td>Left</td>\n",
       "      <td>1.0</td>\n",
       "      <td>2.0</td>\n",
       "      <td>3.0</td>\n",
       "      <td>ST</td>\n",
       "      <td>6.08</td>\n",
       "      <td>174.0</td>\n",
       "      <td>4000000.0</td>\n",
       "      <td>4</td>\n",
       "      <td>Medium</td>\n",
       "      <td>Medium</td>\n",
       "    </tr>\n",
       "    <tr>\n",
       "      <th>16536</th>\n",
       "      <td>N. Simon</td>\n",
       "      <td>18</td>\n",
       "      <td>France</td>\n",
       "      <td>57</td>\n",
       "      <td>73</td>\n",
       "      <td>Racing Club de Lens</td>\n",
       "      <td>210000.0</td>\n",
       "      <td>1000.0</td>\n",
       "      <td>Left</td>\n",
       "      <td>1.0</td>\n",
       "      <td>5.0</td>\n",
       "      <td>2.0</td>\n",
       "      <td>CM</td>\n",
       "      <td>5.58</td>\n",
       "      <td>137.0</td>\n",
       "      <td>499000.0</td>\n",
       "      <td>3</td>\n",
       "      <td>High</td>\n",
       "      <td>Medium</td>\n",
       "    </tr>\n",
       "    <tr>\n",
       "      <th>14686</th>\n",
       "      <td>Otaño</td>\n",
       "      <td>22</td>\n",
       "      <td>Spain</td>\n",
       "      <td>60</td>\n",
       "      <td>70</td>\n",
       "      <td>CD Tenerife</td>\n",
       "      <td>260000.0</td>\n",
       "      <td>1000.0</td>\n",
       "      <td>Right</td>\n",
       "      <td>1.0</td>\n",
       "      <td>3.0</td>\n",
       "      <td>1.0</td>\n",
       "      <td>GK</td>\n",
       "      <td>6.00</td>\n",
       "      <td>165.0</td>\n",
       "      <td>468000.0</td>\n",
       "      <td>2</td>\n",
       "      <td>Medium</td>\n",
       "      <td>Medium</td>\n",
       "    </tr>\n",
       "    <tr>\n",
       "      <th>12687</th>\n",
       "      <td>PC</td>\n",
       "      <td>24</td>\n",
       "      <td>Brazil</td>\n",
       "      <td>63</td>\n",
       "      <td>70</td>\n",
       "      <td>Orlando City SC</td>\n",
       "      <td>425000.0</td>\n",
       "      <td>1000.0</td>\n",
       "      <td>Left</td>\n",
       "      <td>1.0</td>\n",
       "      <td>2.0</td>\n",
       "      <td>2.0</td>\n",
       "      <td>LB</td>\n",
       "      <td>5.67</td>\n",
       "      <td>161.0</td>\n",
       "      <td>723000.0</td>\n",
       "      <td>3</td>\n",
       "      <td>High</td>\n",
       "      <td>Medium</td>\n",
       "    </tr>\n",
       "    <tr>\n",
       "      <th>10553</th>\n",
       "      <td>D. Dziwniel</td>\n",
       "      <td>25</td>\n",
       "      <td>Poland</td>\n",
       "      <td>65</td>\n",
       "      <td>68</td>\n",
       "      <td>Zagłębie Lubin</td>\n",
       "      <td>550000.0</td>\n",
       "      <td>2000.0</td>\n",
       "      <td>Left</td>\n",
       "      <td>1.0</td>\n",
       "      <td>2.0</td>\n",
       "      <td>3.0</td>\n",
       "      <td>LB</td>\n",
       "      <td>5.83</td>\n",
       "      <td>159.0</td>\n",
       "      <td>784000.0</td>\n",
       "      <td>3</td>\n",
       "      <td>Medium</td>\n",
       "      <td>Medium</td>\n",
       "    </tr>\n",
       "  </tbody>\n",
       "</table>\n",
       "</div>"
      ],
      "text/plain": [
       "                Name  Age Nationality  Overall Rating  Potential  \\\n",
       "12931      T. Schilk   26     Germany              63         65   \n",
       "773           Bastos   26      Angola              78         79   \n",
       "1243        M. Uribe   27    Colombia              76         77   \n",
       "3126       K. Hansen   29     Denmark              73         73   \n",
       "3141    J. Gutiérrez   34   Argentina              73         73   \n",
       "4944   Rodrigo Pinho   27      Brazil              70         70   \n",
       "16536       N. Simon   18      France              57         73   \n",
       "14686          Otaño   22       Spain              60         70   \n",
       "12687             PC   24      Brazil              63         70   \n",
       "10553    D. Dziwniel   25      Poland              65         68   \n",
       "\n",
       "                       Club   Value (€)  Wage (€) Preferred Foot  \\\n",
       "12931         Hallescher FC    375000.0    1000.0          Right   \n",
       "773                   Lazio  10000000.0   44000.0          Right   \n",
       "1243           Club América   8500000.0   54000.0          Right   \n",
       "3126         FC Midtjylland   3100000.0   18000.0          Right   \n",
       "3141     Defensa y Justicia   1900000.0   12000.0          Right   \n",
       "4944   Clube Sport Marítimo   1900000.0    7000.0           Left   \n",
       "16536   Racing Club de Lens    210000.0    1000.0           Left   \n",
       "14686           CD Tenerife    260000.0    1000.0          Right   \n",
       "12687       Orlando City SC    425000.0    1000.0           Left   \n",
       "10553        Zagłębie Lubin    550000.0    2000.0           Left   \n",
       "\n",
       "       International Reputation  Weak Foot  Skill Moves Position  Height (ft)  \\\n",
       "12931                       1.0        4.0          2.0      RWB         6.17   \n",
       "773                         2.0        3.0          2.0       CB         5.92   \n",
       "1243                        1.0        4.0          3.0      RCM         6.00   \n",
       "3126                        1.0        3.0          2.0      RCB         6.00   \n",
       "3141                        2.0        3.0          3.0       CM         6.00   \n",
       "4944                        1.0        2.0          3.0       ST         6.08   \n",
       "16536                       1.0        5.0          2.0       CM         5.58   \n",
       "14686                       1.0        3.0          1.0       GK         6.00   \n",
       "12687                       1.0        2.0          2.0       LB         5.67   \n",
       "10553                       1.0        2.0          3.0       LB         5.83   \n",
       "\n",
       "       Weight (lbs)  Release Clause (€)  Contract Duration Attack Rate  \\\n",
       "12931         165.0            572000.0                  4      Medium   \n",
       "773           170.0          17800000.0                  4      Medium   \n",
       "1243          157.0          15100000.0                  6        High   \n",
       "3126          163.0           4000000.0                  7      Medium   \n",
       "3141          183.0           2900000.0                  4      Medium   \n",
       "4944          174.0           4000000.0                  4      Medium   \n",
       "16536         137.0            499000.0                  3        High   \n",
       "14686         165.0            468000.0                  2      Medium   \n",
       "12687         161.0            723000.0                  3        High   \n",
       "10553         159.0            784000.0                  3      Medium   \n",
       "\n",
       "      Defence Rate  \n",
       "12931       Medium  \n",
       "773           High  \n",
       "1243          High  \n",
       "3126        Medium  \n",
       "3141          High  \n",
       "4944        Medium  \n",
       "16536       Medium  \n",
       "14686       Medium  \n",
       "12687       Medium  \n",
       "10553       Medium  "
      ]
     },
     "execution_count": 22,
     "metadata": {},
     "output_type": "execute_result"
    }
   ],
   "source": [
    "# Select the impactful variables\n",
    "dat1 = dat[['Name', 'Age','Nationality', 'Overall Rating', 'Potential', 'Club','Value (€)',\n",
    "            'Wage (€)','Preferred Foot' ,'International Reputation', 'Weak Foot',\n",
    "            'Skill Moves', 'Position','Height (ft)','Weight (lbs)','Release Clause (€)',\n",
    "            'Contract Duration','Attack Rate','Defence Rate']]\n",
    "dat1.sample(10)"
   ]
  },
  {
   "cell_type": "code",
   "execution_count": 23,
   "metadata": {},
   "outputs": [
    {
     "name": "stdout",
     "output_type": "stream",
     "text": [
      "<class 'pandas.core.frame.DataFrame'>\n",
      "Int64Index: 16643 entries, 0 to 18206\n",
      "Data columns (total 19 columns):\n",
      " #   Column                    Non-Null Count  Dtype   \n",
      "---  ------                    --------------  -----   \n",
      " 0   Name                      16643 non-null  object  \n",
      " 1   Age                       16643 non-null  int64   \n",
      " 2   Nationality               16643 non-null  object  \n",
      " 3   Overall Rating            16643 non-null  int64   \n",
      " 4   Potential                 16643 non-null  int64   \n",
      " 5   Club                      16643 non-null  object  \n",
      " 6   Value (€)                 16643 non-null  float64 \n",
      " 7   Wage (€)                  16643 non-null  float64 \n",
      " 8   Preferred Foot            16643 non-null  object  \n",
      " 9   International Reputation  16643 non-null  float64 \n",
      " 10  Weak Foot                 16643 non-null  float64 \n",
      " 11  Skill Moves               16643 non-null  float64 \n",
      " 12  Position                  16643 non-null  category\n",
      " 13  Height (ft)               16643 non-null  float64 \n",
      " 14  Weight (lbs)              16643 non-null  float64 \n",
      " 15  Release Clause (€)        16643 non-null  float64 \n",
      " 16  Contract Duration         16643 non-null  int32   \n",
      " 17  Attack Rate               16643 non-null  object  \n",
      " 18  Defence Rate              16643 non-null  object  \n",
      "dtypes: category(1), float64(8), int32(1), int64(3), object(6)\n",
      "memory usage: 3.0+ MB\n"
     ]
    }
   ],
   "source": [
    "dat1.info()"
   ]
  },
  {
   "cell_type": "markdown",
   "metadata": {},
   "source": [
    "### 3.1 Summary"
   ]
  },
  {
   "cell_type": "code",
   "execution_count": 24,
   "metadata": {},
   "outputs": [
    {
     "data": {
      "text/html": [
       "<div>\n",
       "<style scoped>\n",
       "    .dataframe tbody tr th:only-of-type {\n",
       "        vertical-align: middle;\n",
       "    }\n",
       "\n",
       "    .dataframe tbody tr th {\n",
       "        vertical-align: top;\n",
       "    }\n",
       "\n",
       "    .dataframe thead th {\n",
       "        text-align: right;\n",
       "    }\n",
       "</style>\n",
       "<table border=\"1\" class=\"dataframe\">\n",
       "  <thead>\n",
       "    <tr style=\"text-align: right;\">\n",
       "      <th></th>\n",
       "      <th>count</th>\n",
       "      <th>mean</th>\n",
       "      <th>std</th>\n",
       "      <th>min</th>\n",
       "      <th>25%</th>\n",
       "      <th>50%</th>\n",
       "      <th>75%</th>\n",
       "      <th>max</th>\n",
       "    </tr>\n",
       "  </thead>\n",
       "  <tbody>\n",
       "    <tr>\n",
       "      <th>Age</th>\n",
       "      <td>16643.0</td>\n",
       "      <td>2.522622e+01</td>\n",
       "      <td>4.716588e+00</td>\n",
       "      <td>16.00</td>\n",
       "      <td>21.00</td>\n",
       "      <td>25.00</td>\n",
       "      <td>29.00</td>\n",
       "      <td>4.500000e+01</td>\n",
       "    </tr>\n",
       "    <tr>\n",
       "      <th>Overall Rating</th>\n",
       "      <td>16643.0</td>\n",
       "      <td>6.616277e+01</td>\n",
       "      <td>7.008236e+00</td>\n",
       "      <td>46.00</td>\n",
       "      <td>62.00</td>\n",
       "      <td>66.00</td>\n",
       "      <td>71.00</td>\n",
       "      <td>9.400000e+01</td>\n",
       "    </tr>\n",
       "    <tr>\n",
       "      <th>Potential</th>\n",
       "      <td>16643.0</td>\n",
       "      <td>7.114090e+01</td>\n",
       "      <td>6.151409e+00</td>\n",
       "      <td>48.00</td>\n",
       "      <td>67.00</td>\n",
       "      <td>71.00</td>\n",
       "      <td>75.00</td>\n",
       "      <td>9.500000e+01</td>\n",
       "    </tr>\n",
       "    <tr>\n",
       "      <th>Value (€)</th>\n",
       "      <td>16643.0</td>\n",
       "      <td>2.442667e+06</td>\n",
       "      <td>5.720629e+06</td>\n",
       "      <td>10000.00</td>\n",
       "      <td>300000.00</td>\n",
       "      <td>675000.00</td>\n",
       "      <td>2000000.00</td>\n",
       "      <td>1.185000e+08</td>\n",
       "    </tr>\n",
       "    <tr>\n",
       "      <th>Wage (€)</th>\n",
       "      <td>16643.0</td>\n",
       "      <td>9.618038e+03</td>\n",
       "      <td>2.226352e+04</td>\n",
       "      <td>1000.00</td>\n",
       "      <td>1000.00</td>\n",
       "      <td>3000.00</td>\n",
       "      <td>8000.00</td>\n",
       "      <td>5.650000e+05</td>\n",
       "    </tr>\n",
       "    <tr>\n",
       "      <th>International Reputation</th>\n",
       "      <td>16643.0</td>\n",
       "      <td>1.114823e+00</td>\n",
       "      <td>3.985593e-01</td>\n",
       "      <td>1.00</td>\n",
       "      <td>1.00</td>\n",
       "      <td>1.00</td>\n",
       "      <td>1.00</td>\n",
       "      <td>5.000000e+00</td>\n",
       "    </tr>\n",
       "    <tr>\n",
       "      <th>Weak Foot</th>\n",
       "      <td>16643.0</td>\n",
       "      <td>2.942919e+00</td>\n",
       "      <td>6.599325e-01</td>\n",
       "      <td>1.00</td>\n",
       "      <td>3.00</td>\n",
       "      <td>3.00</td>\n",
       "      <td>3.00</td>\n",
       "      <td>5.000000e+00</td>\n",
       "    </tr>\n",
       "    <tr>\n",
       "      <th>Skill Moves</th>\n",
       "      <td>16643.0</td>\n",
       "      <td>2.349516e+00</td>\n",
       "      <td>7.558554e-01</td>\n",
       "      <td>1.00</td>\n",
       "      <td>2.00</td>\n",
       "      <td>2.00</td>\n",
       "      <td>3.00</td>\n",
       "      <td>5.000000e+00</td>\n",
       "    </tr>\n",
       "    <tr>\n",
       "      <th>Height (ft)</th>\n",
       "      <td>16643.0</td>\n",
       "      <td>5.946334e+00</td>\n",
       "      <td>2.204134e-01</td>\n",
       "      <td>5.08</td>\n",
       "      <td>5.75</td>\n",
       "      <td>5.92</td>\n",
       "      <td>6.08</td>\n",
       "      <td>6.750000e+00</td>\n",
       "    </tr>\n",
       "    <tr>\n",
       "      <th>Weight (lbs)</th>\n",
       "      <td>16643.0</td>\n",
       "      <td>1.659872e+02</td>\n",
       "      <td>1.557531e+01</td>\n",
       "      <td>110.00</td>\n",
       "      <td>154.00</td>\n",
       "      <td>165.00</td>\n",
       "      <td>176.00</td>\n",
       "      <td>2.430000e+02</td>\n",
       "    </tr>\n",
       "    <tr>\n",
       "      <th>Release Clause (€)</th>\n",
       "      <td>16643.0</td>\n",
       "      <td>4.585061e+06</td>\n",
       "      <td>1.111872e+07</td>\n",
       "      <td>13000.00</td>\n",
       "      <td>525000.00</td>\n",
       "      <td>1100000.00</td>\n",
       "      <td>3500000.00</td>\n",
       "      <td>2.281000e+08</td>\n",
       "    </tr>\n",
       "    <tr>\n",
       "      <th>Contract Duration</th>\n",
       "      <td>16643.0</td>\n",
       "      <td>3.779006e+00</td>\n",
       "      <td>2.370871e+00</td>\n",
       "      <td>0.00</td>\n",
       "      <td>2.00</td>\n",
       "      <td>3.00</td>\n",
       "      <td>5.00</td>\n",
       "      <td>3.000000e+01</td>\n",
       "    </tr>\n",
       "  </tbody>\n",
       "</table>\n",
       "</div>"
      ],
      "text/plain": [
       "                            count          mean           std       min  \\\n",
       "Age                       16643.0  2.522622e+01  4.716588e+00     16.00   \n",
       "Overall Rating            16643.0  6.616277e+01  7.008236e+00     46.00   \n",
       "Potential                 16643.0  7.114090e+01  6.151409e+00     48.00   \n",
       "Value (€)                 16643.0  2.442667e+06  5.720629e+06  10000.00   \n",
       "Wage (€)                  16643.0  9.618038e+03  2.226352e+04   1000.00   \n",
       "International Reputation  16643.0  1.114823e+00  3.985593e-01      1.00   \n",
       "Weak Foot                 16643.0  2.942919e+00  6.599325e-01      1.00   \n",
       "Skill Moves               16643.0  2.349516e+00  7.558554e-01      1.00   \n",
       "Height (ft)               16643.0  5.946334e+00  2.204134e-01      5.08   \n",
       "Weight (lbs)              16643.0  1.659872e+02  1.557531e+01    110.00   \n",
       "Release Clause (€)        16643.0  4.585061e+06  1.111872e+07  13000.00   \n",
       "Contract Duration         16643.0  3.779006e+00  2.370871e+00      0.00   \n",
       "\n",
       "                                25%         50%         75%           max  \n",
       "Age                           21.00       25.00       29.00  4.500000e+01  \n",
       "Overall Rating                62.00       66.00       71.00  9.400000e+01  \n",
       "Potential                     67.00       71.00       75.00  9.500000e+01  \n",
       "Value (€)                 300000.00   675000.00  2000000.00  1.185000e+08  \n",
       "Wage (€)                    1000.00     3000.00     8000.00  5.650000e+05  \n",
       "International Reputation       1.00        1.00        1.00  5.000000e+00  \n",
       "Weak Foot                      3.00        3.00        3.00  5.000000e+00  \n",
       "Skill Moves                    2.00        2.00        3.00  5.000000e+00  \n",
       "Height (ft)                    5.75        5.92        6.08  6.750000e+00  \n",
       "Weight (lbs)                 154.00      165.00      176.00  2.430000e+02  \n",
       "Release Clause (€)        525000.00  1100000.00  3500000.00  2.281000e+08  \n",
       "Contract Duration              2.00        3.00        5.00  3.000000e+01  "
      ]
     },
     "execution_count": 24,
     "metadata": {},
     "output_type": "execute_result"
    }
   ],
   "source": [
    "dat1.describe().transpose()"
   ]
  },
  {
   "cell_type": "code",
   "execution_count": 25,
   "metadata": {},
   "outputs": [],
   "source": [
    "dat1.to_pickle('Cleansed_FIFA_data.pkl')"
   ]
  },
  {
   "cell_type": "markdown",
   "metadata": {},
   "source": [
    "### 3.2 Visualization"
   ]
  },
  {
   "cell_type": "markdown",
   "metadata": {},
   "source": [
    "These visualizations are from the quantitative variables. This includes:\n",
    "1. Age \n",
    "2. Overall Rating \n",
    "3. Potential \n",
    "4. Value (€)\n",
    "5. Wage (€)\n",
    "6. Height(ft)\n",
    "7. Weight(lbs)\n",
    "9. Release Clause (€)\n",
    "10. Contract Duration\n",
    "\n",
    "These variables are easily visualized and this will allow teams to see where the average is. With this data they can see where potential players rank and what they should do to acquire them. "
   ]
  },
  {
   "cell_type": "code",
   "execution_count": 26,
   "metadata": {},
   "outputs": [
    {
     "data": {
      "image/png": "[encoded data removed]",
      "text/plain": [
       "<Figure size 1296x1080 with 9 Axes>"
      ]
     },
     "metadata": {
      "needs_background": "light"
     },
     "output_type": "display_data"
    }
   ],
   "source": [
    "# Distribution of quantitative variables\n",
    "column_index = ['Age','Overall Rating', 'Potential','Value (€)','Wage (€)', 'Height (ft)',\n",
    "                'Weight (lbs)','Release Clause (€)','Contract Duration']\n",
    "histogram1 = dat1[column_index].hist(bins=20, figsize=(18,15))"
   ]
  },
  {
   "cell_type": "code",
   "execution_count": 27,
   "metadata": {},
   "outputs": [
    {
     "data": {
      "text/html": [
       "<div>\n",
       "<style scoped>\n",
       "    .dataframe tbody tr th:only-of-type {\n",
       "        vertical-align: middle;\n",
       "    }\n",
       "\n",
       "    .dataframe tbody tr th {\n",
       "        vertical-align: top;\n",
       "    }\n",
       "\n",
       "    .dataframe thead th {\n",
       "        text-align: right;\n",
       "    }\n",
       "</style>\n",
       "<table border=\"1\" class=\"dataframe\">\n",
       "  <thead>\n",
       "    <tr style=\"text-align: right;\">\n",
       "      <th></th>\n",
       "      <th>Value (€)</th>\n",
       "    </tr>\n",
       "  </thead>\n",
       "  <tbody>\n",
       "    <tr>\n",
       "      <th>LS</th>\n",
       "      <td>3.079903e+06</td>\n",
       "    </tr>\n",
       "    <tr>\n",
       "      <th>ST</th>\n",
       "      <td>1.594074e+06</td>\n",
       "    </tr>\n",
       "    <tr>\n",
       "      <th>RS</th>\n",
       "      <td>2.102440e+06</td>\n",
       "    </tr>\n",
       "    <tr>\n",
       "      <th>LW</th>\n",
       "      <td>3.271970e+06</td>\n",
       "    </tr>\n",
       "    <tr>\n",
       "      <th>LF</th>\n",
       "      <td>1.986379e+06</td>\n",
       "    </tr>\n",
       "  </tbody>\n",
       "</table>\n",
       "</div>"
      ],
      "text/plain": [
       "       Value (€)\n",
       "LS  3.079903e+06\n",
       "ST  1.594074e+06\n",
       "RS  2.102440e+06\n",
       "LW  3.271970e+06\n",
       "LF  1.986379e+06"
      ]
     },
     "execution_count": 27,
     "metadata": {},
     "output_type": "execute_result"
    }
   ],
   "source": [
    "# Mean Value by position\n",
    "mean_value_by_position = dat1[['Position','Value (€)']].groupby('Position').mean()\n",
    "mean_value_by_position.index = ['LS','ST','RS','LW','LF','CF','RF','RW','LAM','CAM',\n",
    "                                'RAM','LM','LCM','CM','RCM','RM','LWB','LDM','CDM','RDM',\n",
    "                                'RWB','LB','LCB','CB','RCB','RB','GK']\n",
    "mean_value_by_position.head()"
   ]
  },
  {
   "cell_type": "code",
   "execution_count": 28,
   "metadata": {},
   "outputs": [],
   "source": [
    "std1 = dat1[['Position','Value (€)']].groupby('Position').std()\n",
    "std1.index = ['LS','ST','RS','LW','LF','CF','RF','RW','LAM','CAM',\n",
    "                                'RAM','LM','LCM','CM','RCM','RM','LWB','LDM','CDM','RDM',\n",
    "                                'RWB','LB','LCB','CB','RCB','RB','GK']"
   ]
  },
  {
   "cell_type": "markdown",
   "metadata": {},
   "source": [
    "On the graph below we can see what players are the most valued on a team by their position. "
   ]
  },
  {
   "cell_type": "code",
   "execution_count": 29,
   "metadata": {},
   "outputs": [
    {
     "data": {
      "image/png": "[encoded data removed]",
      "text/plain": [
       "<Figure size 1440x720 with 1 Axes>"
      ]
     },
     "metadata": {
      "needs_background": "light"
     },
     "output_type": "display_data"
    }
   ],
   "source": [
    "# Player Value based on position\n",
    "mean_value_by_position.plot(kind='bar', legend = False,figsize=(20,10))\n",
    "plt.title('Average Value Based on Position')\n",
    "plt.xticks(rotation=45)\n",
    "plt.ylabel('Value (€)')\n",
    "plt.show()"
   ]
  },
  {
   "cell_type": "code",
   "execution_count": 30,
   "metadata": {},
   "outputs": [],
   "source": [
    "# Mean Wage by position\n",
    "mean_wage_by_position = dat1[['Position','Wage (€)']].groupby('Position').mean()\n",
    "mean_wage_by_position.index = ['LS','ST','RS','LW','LF','CF','RF','RW','LAM','CAM',\n",
    "                                'RAM','LM','LCM','CM','RCM','RM','LWB','LDM','CDM','RDM',\n",
    "                                'RWB','LB','LCB','CB','RCB','RB','GK']"
   ]
  },
  {
   "cell_type": "markdown",
   "metadata": {},
   "source": [
    "On the graph below we can see the average wage each position is paid."
   ]
  },
  {
   "cell_type": "code",
   "execution_count": 31,
   "metadata": {},
   "outputs": [
    {
     "data": {
      "image/png": "[encoded data removed]",
      "text/plain": [
       "<Figure size 1440x720 with 1 Axes>"
      ]
     },
     "metadata": {
      "needs_background": "light"
     },
     "output_type": "display_data"
    }
   ],
   "source": [
    "# Player Wage based on position\n",
    "mean_wage_by_position.plot(kind='bar', legend = False,figsize=(20,10))\n",
    "plt.title('Average Wage Based on Position')\n",
    "plt.xticks(rotation=45)\n",
    "plt.ylabel('Wage (€)')\n",
    "plt.show()"
   ]
  },
  {
   "cell_type": "markdown",
   "metadata": {},
   "source": [
    "On the graph below we can see that the higher the rating the higher the release clause is. "
   ]
  },
  {
   "cell_type": "code",
   "execution_count": 32,
   "metadata": {},
   "outputs": [
    {
     "data": {
      "image/png": "[encoded data removed]",
      "text/plain": [
       "<Figure size 432x288 with 1 Axes>"
      ]
     },
     "metadata": {
      "needs_background": "light"
     },
     "output_type": "display_data"
    }
   ],
   "source": [
    "# Variation of Value and Release Clause with Rating\n",
    "column_index = ['Value (€)', 'Release Clause (€)']\n",
    "for i in column_index:\n",
    "    scatter1 = plt.scatter(dat1['Overall Rating'], dat1[i])\n",
    "plt.legend(['Value (€)', 'Release Clause (€)'])\n",
    "plt.title('Variation of Value and Release Clause with Rating')\n",
    "plt.xlabel('Overall Rating')\n",
    "plt.show()"
   ]
  },
  {
   "cell_type": "markdown",
   "metadata": {},
   "source": [
    "In the graphic below we can see the variation of wage with the rating. The higher wage means higher the rating of the player. "
   ]
  },
  {
   "cell_type": "code",
   "execution_count": 33,
   "metadata": {},
   "outputs": [
    {
     "data": {
      "image/png": "[encoded data removed]",
      "text/plain": [
       "<Figure size 432x432 with 3 Axes>"
      ]
     },
     "metadata": {
      "needs_background": "light"
     },
     "output_type": "display_data"
    }
   ],
   "source": [
    "# Variation of Wage with Rating\n",
    "sb.jointplot(x='Overall Rating',y='Wage (€)', data= dat1[['Overall Rating','Wage (€)']],color='r')\n",
    "plt.title('Wage vs Rating')\n",
    "plt.xlabel('Overall Rating')\n",
    "plt.ylabel('Wage (€)')\n",
    "plt.show()"
   ]
  },
  {
   "cell_type": "markdown",
   "metadata": {},
   "source": [
    "Below is a graph showing the variation between the value in € and the potential of the player. The higher the potential rating means higher the value. "
   ]
  },
  {
   "cell_type": "code",
   "execution_count": 34,
   "metadata": {},
   "outputs": [
    {
     "data": {
      "image/png": "[encoded data removed]",
      "text/plain": [
       "<Figure size 432x288 with 1 Axes>"
      ]
     },
     "metadata": {
      "needs_background": "light"
     },
     "output_type": "display_data"
    }
   ],
   "source": [
    "# Variation of Value with Potential\n",
    "scatter1 = plt.scatter(dat1['Potential'], dat1['Value (€)'],color='g')\n",
    "plt.title('Variation of Value with Potential')\n",
    "plt.xlabel('Potential')\n",
    "plt.ylabel('Value (€)')\n",
    "plt.show()"
   ]
  },
  {
   "cell_type": "markdown",
   "metadata": {},
   "source": [
    "Below we can see the distribution in overall rating with the player's age. "
   ]
  },
  {
   "cell_type": "code",
   "execution_count": 35,
   "metadata": {},
   "outputs": [
    {
     "data": {
      "image/png": "[encoded data removed]",
      "text/plain": [
       "<Figure size 432x288 with 1 Axes>"
      ]
     },
     "metadata": {
      "needs_background": "light"
     },
     "output_type": "display_data"
    }
   ],
   "source": [
    "# Distribution of Overall Rating over Player Age\n",
    "plt.scatter(dat1['Age'],dat1['Overall Rating'])\n",
    "plt.title('Rating vs Age')\n",
    "plt.xlabel('Age')\n",
    "plt.ylabel('Overall Rating')\n",
    "plt.show()"
   ]
  },
  {
   "cell_type": "code",
   "execution_count": 36,
   "metadata": {},
   "outputs": [],
   "source": [
    "mean_rating_by_preferred_foot = dat1[['Preferred Foot','Overall Rating']].groupby('Preferred Foot').mean()\n",
    "mean_rating_by_preferred_foot.index = ['Left','Right']"
   ]
  },
  {
   "cell_type": "code",
   "execution_count": 37,
   "metadata": {},
   "outputs": [
    {
     "data": {
      "image/png": "[encoded data removed]",
      "text/plain": [
       "<Figure size 432x288 with 1 Axes>"
      ]
     },
     "metadata": {},
     "output_type": "display_data"
    }
   ],
   "source": [
    "mean_rating_by_preferred_foot['Overall Rating'].plot(kind='pie',\n",
    "                                                  colors=['r','g'],\n",
    "                                                  autopct='%.2f%%',\n",
    "                                                  fontsize=15,\n",
    "                                                  figsize=(6,4),\n",
    "                                                  shadow=True)\n",
    "plt.title('Rating based on preferred foot')\n",
    "plt.show()"
   ]
  },
  {
   "cell_type": "markdown",
   "metadata": {},
   "source": [
    "## 4. Dimension Reduction"
   ]
  },
  {
   "cell_type": "markdown",
   "metadata": {},
   "source": [
    "### 4.1 Data Normalization"
   ]
  },
  {
   "cell_type": "code",
   "execution_count": 38,
   "metadata": {},
   "outputs": [
    {
     "data": {
      "text/html": [
       "<div>\n",
       "<style scoped>\n",
       "    .dataframe tbody tr th:only-of-type {\n",
       "        vertical-align: middle;\n",
       "    }\n",
       "\n",
       "    .dataframe tbody tr th {\n",
       "        vertical-align: top;\n",
       "    }\n",
       "\n",
       "    .dataframe thead th {\n",
       "        text-align: right;\n",
       "    }\n",
       "</style>\n",
       "<table border=\"1\" class=\"dataframe\">\n",
       "  <thead>\n",
       "    <tr style=\"text-align: right;\">\n",
       "      <th></th>\n",
       "      <th>count</th>\n",
       "      <th>mean</th>\n",
       "      <th>std</th>\n",
       "      <th>min</th>\n",
       "      <th>25%</th>\n",
       "      <th>50%</th>\n",
       "      <th>75%</th>\n",
       "      <th>max</th>\n",
       "    </tr>\n",
       "  </thead>\n",
       "  <tbody>\n",
       "    <tr>\n",
       "      <th>0</th>\n",
       "      <td>16643.0</td>\n",
       "      <td>-1.741882e-16</td>\n",
       "      <td>1.00003</td>\n",
       "      <td>-1.956181</td>\n",
       "      <td>-0.896061</td>\n",
       "      <td>-0.047964</td>\n",
       "      <td>0.800132</td>\n",
       "      <td>4.192517</td>\n",
       "    </tr>\n",
       "    <tr>\n",
       "      <th>1</th>\n",
       "      <td>16643.0</td>\n",
       "      <td>1.010975e-15</td>\n",
       "      <td>1.00003</td>\n",
       "      <td>-2.877097</td>\n",
       "      <td>-0.594001</td>\n",
       "      <td>-0.023226</td>\n",
       "      <td>0.690241</td>\n",
       "      <td>3.972193</td>\n",
       "    </tr>\n",
       "    <tr>\n",
       "      <th>2</th>\n",
       "      <td>16643.0</td>\n",
       "      <td>9.563274e-17</td>\n",
       "      <td>1.00003</td>\n",
       "      <td>-3.761999</td>\n",
       "      <td>-0.673183</td>\n",
       "      <td>-0.022906</td>\n",
       "      <td>0.627371</td>\n",
       "      <td>3.878756</td>\n",
       "    </tr>\n",
       "    <tr>\n",
       "      <th>3</th>\n",
       "      <td>16643.0</td>\n",
       "      <td>4.440092e-17</td>\n",
       "      <td>1.00003</td>\n",
       "      <td>-0.425257</td>\n",
       "      <td>-0.374562</td>\n",
       "      <td>-0.309008</td>\n",
       "      <td>-0.077383</td>\n",
       "      <td>20.288124</td>\n",
       "    </tr>\n",
       "    <tr>\n",
       "      <th>4</th>\n",
       "      <td>16643.0</td>\n",
       "      <td>3.757001e-17</td>\n",
       "      <td>1.00003</td>\n",
       "      <td>-0.387104</td>\n",
       "      <td>-0.387104</td>\n",
       "      <td>-0.297268</td>\n",
       "      <td>-0.072679</td>\n",
       "      <td>24.946580</td>\n",
       "    </tr>\n",
       "    <tr>\n",
       "      <th>5</th>\n",
       "      <td>16643.0</td>\n",
       "      <td>6.830910e-18</td>\n",
       "      <td>1.00003</td>\n",
       "      <td>-0.288104</td>\n",
       "      <td>-0.288104</td>\n",
       "      <td>-0.288104</td>\n",
       "      <td>-0.288104</td>\n",
       "      <td>9.748346</td>\n",
       "    </tr>\n",
       "    <tr>\n",
       "      <th>6</th>\n",
       "      <td>16643.0</td>\n",
       "      <td>-1.041714e-16</td>\n",
       "      <td>1.00003</td>\n",
       "      <td>-2.944206</td>\n",
       "      <td>0.086498</td>\n",
       "      <td>0.086498</td>\n",
       "      <td>0.086498</td>\n",
       "      <td>3.117202</td>\n",
       "    </tr>\n",
       "    <tr>\n",
       "      <th>7</th>\n",
       "      <td>16643.0</td>\n",
       "      <td>2.237123e-16</td>\n",
       "      <td>1.00003</td>\n",
       "      <td>-1.785470</td>\n",
       "      <td>-0.462426</td>\n",
       "      <td>-0.462426</td>\n",
       "      <td>0.860619</td>\n",
       "      <td>3.506707</td>\n",
       "    </tr>\n",
       "    <tr>\n",
       "      <th>8</th>\n",
       "      <td>16643.0</td>\n",
       "      <td>-3.936312e-16</td>\n",
       "      <td>1.00003</td>\n",
       "      <td>-3.930615</td>\n",
       "      <td>-0.890781</td>\n",
       "      <td>-0.119480</td>\n",
       "      <td>0.606451</td>\n",
       "      <td>3.646285</td>\n",
       "    </tr>\n",
       "    <tr>\n",
       "      <th>9</th>\n",
       "      <td>16643.0</td>\n",
       "      <td>-7.940933e-16</td>\n",
       "      <td>1.00003</td>\n",
       "      <td>-3.594720</td>\n",
       "      <td>-0.769652</td>\n",
       "      <td>-0.063384</td>\n",
       "      <td>0.642883</td>\n",
       "      <td>4.944692</td>\n",
       "    </tr>\n",
       "    <tr>\n",
       "      <th>10</th>\n",
       "      <td>16643.0</td>\n",
       "      <td>-5.123183e-18</td>\n",
       "      <td>1.00003</td>\n",
       "      <td>-0.411216</td>\n",
       "      <td>-0.365166</td>\n",
       "      <td>-0.313450</td>\n",
       "      <td>-0.097592</td>\n",
       "      <td>20.103186</td>\n",
       "    </tr>\n",
       "    <tr>\n",
       "      <th>11</th>\n",
       "      <td>16643.0</td>\n",
       "      <td>-8.026319e-17</td>\n",
       "      <td>1.00003</td>\n",
       "      <td>-1.593979</td>\n",
       "      <td>-0.750382</td>\n",
       "      <td>-0.328584</td>\n",
       "      <td>0.515013</td>\n",
       "      <td>11.059977</td>\n",
       "    </tr>\n",
       "  </tbody>\n",
       "</table>\n",
       "</div>"
      ],
      "text/plain": [
       "      count          mean      std       min       25%       50%       75%  \\\n",
       "0   16643.0 -1.741882e-16  1.00003 -1.956181 -0.896061 -0.047964  0.800132   \n",
       "1   16643.0  1.010975e-15  1.00003 -2.877097 -0.594001 -0.023226  0.690241   \n",
       "2   16643.0  9.563274e-17  1.00003 -3.761999 -0.673183 -0.022906  0.627371   \n",
       "3   16643.0  4.440092e-17  1.00003 -0.425257 -0.374562 -0.309008 -0.077383   \n",
       "4   16643.0  3.757001e-17  1.00003 -0.387104 -0.387104 -0.297268 -0.072679   \n",
       "5   16643.0  6.830910e-18  1.00003 -0.288104 -0.288104 -0.288104 -0.288104   \n",
       "6   16643.0 -1.041714e-16  1.00003 -2.944206  0.086498  0.086498  0.086498   \n",
       "7   16643.0  2.237123e-16  1.00003 -1.785470 -0.462426 -0.462426  0.860619   \n",
       "8   16643.0 -3.936312e-16  1.00003 -3.930615 -0.890781 -0.119480  0.606451   \n",
       "9   16643.0 -7.940933e-16  1.00003 -3.594720 -0.769652 -0.063384  0.642883   \n",
       "10  16643.0 -5.123183e-18  1.00003 -0.411216 -0.365166 -0.313450 -0.097592   \n",
       "11  16643.0 -8.026319e-17  1.00003 -1.593979 -0.750382 -0.328584  0.515013   \n",
       "\n",
       "          max  \n",
       "0    4.192517  \n",
       "1    3.972193  \n",
       "2    3.878756  \n",
       "3   20.288124  \n",
       "4   24.946580  \n",
       "5    9.748346  \n",
       "6    3.117202  \n",
       "7    3.506707  \n",
       "8    3.646285  \n",
       "9    4.944692  \n",
       "10  20.103186  \n",
       "11  11.059977  "
      ]
     },
     "execution_count": 38,
     "metadata": {},
     "output_type": "execute_result"
    }
   ],
   "source": [
    "dat2 = dat1[['Age','Overall Rating', 'Potential','Value (€)',\n",
    "            'Wage (€)','International Reputation','Weak Foot',\n",
    "            'Skill Moves','Height (ft)','Weight (lbs)','Release Clause (€)',\n",
    "            'Contract Duration']]\n",
    "dat2_norm = scale(dat2.loc[:,'Age':'Contract Duration'])\n",
    "pd.DataFrame(dat2_norm).describe().transpose()"
   ]
  },
  {
   "cell_type": "markdown",
   "metadata": {},
   "source": [
    "### 4.2 Principal Component Analysis"
   ]
  },
  {
   "cell_type": "markdown",
   "metadata": {},
   "source": [
    "#### 4.2.1 Full Component Solution"
   ]
  },
  {
   "cell_type": "code",
   "execution_count": 39,
   "metadata": {},
   "outputs": [
    {
     "data": {
      "text/plain": [
       "PCA(n_components=12)"
      ]
     },
     "execution_count": 39,
     "metadata": {},
     "output_type": "execute_result"
    }
   ],
   "source": [
    "# Select the number of components\n",
    "pca1 = PCA(n_components=12)\n",
    "\n",
    "# Fit the PCA model\n",
    "pca1.fit(dat2_norm)"
   ]
  },
  {
   "cell_type": "code",
   "execution_count": 40,
   "metadata": {},
   "outputs": [
    {
     "name": "stdout",
     "output_type": "stream",
     "text": [
      "[ 38.53  56.58  67.21  75.21  82.92  89.11  92.71  96.13  98.03  99.46\n",
      "  99.96 100.  ]\n"
     ]
    }
   ],
   "source": [
    "#The amount of variance that each PC explains\n",
    "var = pca1.explained_variance_ratio_\n",
    "\n",
    "#Cumulative Variance explains\n",
    "var1 = np.cumsum(np.round(pca1.explained_variance_ratio_, decimals=4)*100)\n",
    "\n",
    "print(var1)"
   ]
  },
  {
   "cell_type": "code",
   "execution_count": 41,
   "metadata": {},
   "outputs": [
    {
     "data": {
      "image/png": "[encoded data removed]",
      "text/plain": [
       "<Figure size 432x288 with 1 Axes>"
      ]
     },
     "metadata": {
      "needs_background": "light"
     },
     "output_type": "display_data"
    }
   ],
   "source": [
    "var1 = pd.DataFrame(var1, index=np.arange(1,13))\n",
    "plt.plot(var1,color='g')\n",
    "plt.title('Scree Plot')\n",
    "plt.xlabel('Number of Principal Components')\n",
    "plt.ylabel('Cumulative Variance Explained')\n",
    "plt.show()"
   ]
  },
  {
   "cell_type": "markdown",
   "metadata": {},
   "source": [
    "#### 4.2.2 A 7-Component Solution"
   ]
  },
  {
   "cell_type": "code",
   "execution_count": 42,
   "metadata": {},
   "outputs": [
    {
     "data": {
      "text/html": [
       "<div>\n",
       "<style scoped>\n",
       "    .dataframe tbody tr th:only-of-type {\n",
       "        vertical-align: middle;\n",
       "    }\n",
       "\n",
       "    .dataframe tbody tr th {\n",
       "        vertical-align: top;\n",
       "    }\n",
       "\n",
       "    .dataframe thead th {\n",
       "        text-align: right;\n",
       "    }\n",
       "</style>\n",
       "<table border=\"1\" class=\"dataframe\">\n",
       "  <thead>\n",
       "    <tr style=\"text-align: right;\">\n",
       "      <th></th>\n",
       "      <th>PC1</th>\n",
       "      <th>PC2</th>\n",
       "      <th>PC3</th>\n",
       "      <th>PC4</th>\n",
       "      <th>PC5</th>\n",
       "      <th>PC6</th>\n",
       "      <th>PC7</th>\n",
       "    </tr>\n",
       "  </thead>\n",
       "  <tbody>\n",
       "    <tr>\n",
       "      <th>0</th>\n",
       "      <td>34.612268</td>\n",
       "      <td>1.697010</td>\n",
       "      <td>6.045432</td>\n",
       "      <td>5.488196</td>\n",
       "      <td>9.753239</td>\n",
       "      <td>9.297132</td>\n",
       "      <td>6.686059</td>\n",
       "    </tr>\n",
       "    <tr>\n",
       "      <th>1</th>\n",
       "      <td>24.812528</td>\n",
       "      <td>2.638812</td>\n",
       "      <td>2.772919</td>\n",
       "      <td>-0.486374</td>\n",
       "      <td>7.946180</td>\n",
       "      <td>4.468730</td>\n",
       "      <td>3.351817</td>\n",
       "    </tr>\n",
       "    <tr>\n",
       "      <th>2</th>\n",
       "      <td>29.689896</td>\n",
       "      <td>-0.268912</td>\n",
       "      <td>5.578062</td>\n",
       "      <td>-0.171590</td>\n",
       "      <td>9.158686</td>\n",
       "      <td>7.017714</td>\n",
       "      <td>5.343334</td>\n",
       "    </tr>\n",
       "    <tr>\n",
       "      <th>3</th>\n",
       "      <td>19.987674</td>\n",
       "      <td>4.117569</td>\n",
       "      <td>4.975615</td>\n",
       "      <td>2.325568</td>\n",
       "      <td>5.497520</td>\n",
       "      <td>4.619099</td>\n",
       "      <td>0.888376</td>\n",
       "    </tr>\n",
       "    <tr>\n",
       "      <th>4</th>\n",
       "      <td>27.345649</td>\n",
       "      <td>0.756396</td>\n",
       "      <td>5.163055</td>\n",
       "      <td>0.813723</td>\n",
       "      <td>7.487883</td>\n",
       "      <td>7.261404</td>\n",
       "      <td>5.282458</td>\n",
       "    </tr>\n",
       "  </tbody>\n",
       "</table>\n",
       "</div>"
      ],
      "text/plain": [
       "         PC1       PC2       PC3       PC4       PC5       PC6       PC7\n",
       "0  34.612268  1.697010  6.045432  5.488196  9.753239  9.297132  6.686059\n",
       "1  24.812528  2.638812  2.772919 -0.486374  7.946180  4.468730  3.351817\n",
       "2  29.689896 -0.268912  5.578062 -0.171590  9.158686  7.017714  5.343334\n",
       "3  19.987674  4.117569  4.975615  2.325568  5.497520  4.619099  0.888376\n",
       "4  27.345649  0.756396  5.163055  0.813723  7.487883  7.261404  5.282458"
      ]
     },
     "execution_count": 42,
     "metadata": {},
     "output_type": "execute_result"
    }
   ],
   "source": [
    "# Select the number of components\n",
    "pca7 = PCA(n_components=7)\n",
    "pca7.fit(dat2_norm)\n",
    "data_pca7 = pca7.fit_transform(dat2_norm)\n",
    "\n",
    "# Convert the numpy array to pandas DataFrame\n",
    "data_pca7 = pd.DataFrame(data_pca7)\n",
    "data_pca7.columns = [\"PC\"+str(i) for i in range(1,8)]\n",
    "\n",
    "# Show the head of the DataFrame\n",
    "data_pca7.head()"
   ]
  },
  {
   "cell_type": "code",
   "execution_count": 43,
   "metadata": {},
   "outputs": [
    {
     "data": {
      "text/html": [
       "<div>\n",
       "<style scoped>\n",
       "    .dataframe tbody tr th:only-of-type {\n",
       "        vertical-align: middle;\n",
       "    }\n",
       "\n",
       "    .dataframe tbody tr th {\n",
       "        vertical-align: top;\n",
       "    }\n",
       "\n",
       "    .dataframe thead th {\n",
       "        text-align: right;\n",
       "    }\n",
       "</style>\n",
       "<table border=\"1\" class=\"dataframe\">\n",
       "  <thead>\n",
       "    <tr style=\"text-align: right;\">\n",
       "      <th></th>\n",
       "      <th>PC1</th>\n",
       "      <th>PC2</th>\n",
       "      <th>PC3</th>\n",
       "      <th>PC4</th>\n",
       "      <th>PC5</th>\n",
       "      <th>PC6</th>\n",
       "      <th>PC7</th>\n",
       "    </tr>\n",
       "  </thead>\n",
       "  <tbody>\n",
       "    <tr>\n",
       "      <th>PC1</th>\n",
       "      <td>1.000000e+00</td>\n",
       "      <td>-1.061733e-16</td>\n",
       "      <td>1.187097e-15</td>\n",
       "      <td>5.569778e-17</td>\n",
       "      <td>-1.871800e-16</td>\n",
       "      <td>1.488026e-15</td>\n",
       "      <td>-7.829942e-17</td>\n",
       "    </tr>\n",
       "    <tr>\n",
       "      <th>PC2</th>\n",
       "      <td>-1.061733e-16</td>\n",
       "      <td>1.000000e+00</td>\n",
       "      <td>-1.432603e-16</td>\n",
       "      <td>-5.202909e-17</td>\n",
       "      <td>8.829917e-18</td>\n",
       "      <td>-1.107825e-16</td>\n",
       "      <td>8.411020e-18</td>\n",
       "    </tr>\n",
       "    <tr>\n",
       "      <th>PC3</th>\n",
       "      <td>1.187097e-15</td>\n",
       "      <td>-1.432603e-16</td>\n",
       "      <td>1.000000e+00</td>\n",
       "      <td>6.987240e-16</td>\n",
       "      <td>2.628250e-16</td>\n",
       "      <td>-1.366433e-16</td>\n",
       "      <td>7.327785e-16</td>\n",
       "    </tr>\n",
       "    <tr>\n",
       "      <th>PC4</th>\n",
       "      <td>5.569778e-17</td>\n",
       "      <td>-5.202909e-17</td>\n",
       "      <td>6.987240e-16</td>\n",
       "      <td>1.000000e+00</td>\n",
       "      <td>-5.335057e-16</td>\n",
       "      <td>-5.011563e-16</td>\n",
       "      <td>-1.739298e-16</td>\n",
       "    </tr>\n",
       "    <tr>\n",
       "      <th>PC5</th>\n",
       "      <td>-1.871800e-16</td>\n",
       "      <td>8.829917e-18</td>\n",
       "      <td>2.628250e-16</td>\n",
       "      <td>-5.335057e-16</td>\n",
       "      <td>1.000000e+00</td>\n",
       "      <td>7.026944e-16</td>\n",
       "      <td>-6.861226e-17</td>\n",
       "    </tr>\n",
       "    <tr>\n",
       "      <th>PC6</th>\n",
       "      <td>1.488026e-15</td>\n",
       "      <td>-1.107825e-16</td>\n",
       "      <td>-1.366433e-16</td>\n",
       "      <td>-5.011563e-16</td>\n",
       "      <td>7.026944e-16</td>\n",
       "      <td>1.000000e+00</td>\n",
       "      <td>2.929181e-17</td>\n",
       "    </tr>\n",
       "    <tr>\n",
       "      <th>PC7</th>\n",
       "      <td>-7.829942e-17</td>\n",
       "      <td>8.411020e-18</td>\n",
       "      <td>7.327785e-16</td>\n",
       "      <td>-1.739298e-16</td>\n",
       "      <td>-6.861226e-17</td>\n",
       "      <td>2.929181e-17</td>\n",
       "      <td>1.000000e+00</td>\n",
       "    </tr>\n",
       "  </tbody>\n",
       "</table>\n",
       "</div>"
      ],
      "text/plain": [
       "              PC1           PC2           PC3           PC4           PC5  \\\n",
       "PC1  1.000000e+00 -1.061733e-16  1.187097e-15  5.569778e-17 -1.871800e-16   \n",
       "PC2 -1.061733e-16  1.000000e+00 -1.432603e-16 -5.202909e-17  8.829917e-18   \n",
       "PC3  1.187097e-15 -1.432603e-16  1.000000e+00  6.987240e-16  2.628250e-16   \n",
       "PC4  5.569778e-17 -5.202909e-17  6.987240e-16  1.000000e+00 -5.335057e-16   \n",
       "PC5 -1.871800e-16  8.829917e-18  2.628250e-16 -5.335057e-16  1.000000e+00   \n",
       "PC6  1.488026e-15 -1.107825e-16 -1.366433e-16 -5.011563e-16  7.026944e-16   \n",
       "PC7 -7.829942e-17  8.411020e-18  7.327785e-16 -1.739298e-16 -6.861226e-17   \n",
       "\n",
       "              PC6           PC7  \n",
       "PC1  1.488026e-15 -7.829942e-17  \n",
       "PC2 -1.107825e-16  8.411020e-18  \n",
       "PC3 -1.366433e-16  7.327785e-16  \n",
       "PC4 -5.011563e-16 -1.739298e-16  \n",
       "PC5  7.026944e-16 -6.861226e-17  \n",
       "PC6  1.000000e+00  2.929181e-17  \n",
       "PC7  2.929181e-17  1.000000e+00  "
      ]
     },
     "execution_count": 43,
     "metadata": {},
     "output_type": "execute_result"
    }
   ],
   "source": [
    "# Correlation analysis\n",
    "data_pca7.corr()"
   ]
  },
  {
   "cell_type": "markdown",
   "metadata": {},
   "source": [
    "The pairwise correlation between the principal components are close to zero indicating that there is no multicolinearity among the principal components"
   ]
  },
  {
   "cell_type": "markdown",
   "metadata": {},
   "source": [
    "# 5. Data Preprocessing for Regression Analysis"
   ]
  },
  {
   "cell_type": "code",
   "execution_count": 44,
   "metadata": {},
   "outputs": [],
   "source": [
    "dat1.index = dat1['Name']\n"
   ]
  },
  {
   "cell_type": "code",
   "execution_count": 45,
   "metadata": {},
   "outputs": [],
   "source": [
    "dat1 = dat1.drop(['Name'],axis=1)"
   ]
  },
  {
   "cell_type": "code",
   "execution_count": 46,
   "metadata": {
    "scrolled": true
   },
   "outputs": [
    {
     "data": {
      "text/html": [
       "<div>\n",
       "<style scoped>\n",
       "    .dataframe tbody tr th:only-of-type {\n",
       "        vertical-align: middle;\n",
       "    }\n",
       "\n",
       "    .dataframe tbody tr th {\n",
       "        vertical-align: top;\n",
       "    }\n",
       "\n",
       "    .dataframe thead th {\n",
       "        text-align: right;\n",
       "    }\n",
       "</style>\n",
       "<table border=\"1\" class=\"dataframe\">\n",
       "  <thead>\n",
       "    <tr style=\"text-align: right;\">\n",
       "      <th></th>\n",
       "      <th>Age</th>\n",
       "      <th>Nationality</th>\n",
       "      <th>Overall Rating</th>\n",
       "      <th>Potential</th>\n",
       "      <th>Club</th>\n",
       "      <th>Value (€)</th>\n",
       "      <th>Wage (€)</th>\n",
       "      <th>Preferred Foot</th>\n",
       "      <th>International Reputation</th>\n",
       "      <th>Weak Foot</th>\n",
       "      <th>Skill Moves</th>\n",
       "      <th>Position</th>\n",
       "      <th>Height (ft)</th>\n",
       "      <th>Weight (lbs)</th>\n",
       "      <th>Release Clause (€)</th>\n",
       "      <th>Contract Duration</th>\n",
       "      <th>Attack Rate</th>\n",
       "      <th>Defence Rate</th>\n",
       "    </tr>\n",
       "    <tr>\n",
       "      <th>Name</th>\n",
       "      <th></th>\n",
       "      <th></th>\n",
       "      <th></th>\n",
       "      <th></th>\n",
       "      <th></th>\n",
       "      <th></th>\n",
       "      <th></th>\n",
       "      <th></th>\n",
       "      <th></th>\n",
       "      <th></th>\n",
       "      <th></th>\n",
       "      <th></th>\n",
       "      <th></th>\n",
       "      <th></th>\n",
       "      <th></th>\n",
       "      <th></th>\n",
       "      <th></th>\n",
       "      <th></th>\n",
       "    </tr>\n",
       "  </thead>\n",
       "  <tbody>\n",
       "    <tr>\n",
       "      <th>L. Messi</th>\n",
       "      <td>31</td>\n",
       "      <td>Argentina</td>\n",
       "      <td>94</td>\n",
       "      <td>94</td>\n",
       "      <td>FC Barcelona</td>\n",
       "      <td>110500000.0</td>\n",
       "      <td>565000.0</td>\n",
       "      <td>Left</td>\n",
       "      <td>5.0</td>\n",
       "      <td>4.0</td>\n",
       "      <td>4.0</td>\n",
       "      <td>RF</td>\n",
       "      <td>5.58</td>\n",
       "      <td>159.0</td>\n",
       "      <td>226500000.0</td>\n",
       "      <td>17</td>\n",
       "      <td>Medium</td>\n",
       "      <td>Medium</td>\n",
       "    </tr>\n",
       "    <tr>\n",
       "      <th>Cristiano Ronaldo</th>\n",
       "      <td>33</td>\n",
       "      <td>Portugal</td>\n",
       "      <td>94</td>\n",
       "      <td>94</td>\n",
       "      <td>Juventus</td>\n",
       "      <td>77000000.0</td>\n",
       "      <td>405000.0</td>\n",
       "      <td>Right</td>\n",
       "      <td>5.0</td>\n",
       "      <td>4.0</td>\n",
       "      <td>5.0</td>\n",
       "      <td>ST</td>\n",
       "      <td>6.17</td>\n",
       "      <td>183.0</td>\n",
       "      <td>127100000.0</td>\n",
       "      <td>4</td>\n",
       "      <td>High</td>\n",
       "      <td>Low</td>\n",
       "    </tr>\n",
       "    <tr>\n",
       "      <th>Neymar Jr</th>\n",
       "      <td>26</td>\n",
       "      <td>Brazil</td>\n",
       "      <td>92</td>\n",
       "      <td>93</td>\n",
       "      <td>Paris Saint-Germain</td>\n",
       "      <td>118500000.0</td>\n",
       "      <td>290000.0</td>\n",
       "      <td>Right</td>\n",
       "      <td>5.0</td>\n",
       "      <td>5.0</td>\n",
       "      <td>5.0</td>\n",
       "      <td>LW</td>\n",
       "      <td>5.75</td>\n",
       "      <td>150.0</td>\n",
       "      <td>228100000.0</td>\n",
       "      <td>5</td>\n",
       "      <td>High</td>\n",
       "      <td>Medium</td>\n",
       "    </tr>\n",
       "    <tr>\n",
       "      <th>De Gea</th>\n",
       "      <td>27</td>\n",
       "      <td>Spain</td>\n",
       "      <td>91</td>\n",
       "      <td>93</td>\n",
       "      <td>Manchester United</td>\n",
       "      <td>72000000.0</td>\n",
       "      <td>260000.0</td>\n",
       "      <td>Right</td>\n",
       "      <td>4.0</td>\n",
       "      <td>3.0</td>\n",
       "      <td>1.0</td>\n",
       "      <td>GK</td>\n",
       "      <td>6.33</td>\n",
       "      <td>168.0</td>\n",
       "      <td>138600000.0</td>\n",
       "      <td>9</td>\n",
       "      <td>Medium</td>\n",
       "      <td>Medium</td>\n",
       "    </tr>\n",
       "    <tr>\n",
       "      <th>K. De Bruyne</th>\n",
       "      <td>27</td>\n",
       "      <td>Belgium</td>\n",
       "      <td>91</td>\n",
       "      <td>92</td>\n",
       "      <td>Manchester City</td>\n",
       "      <td>102000000.0</td>\n",
       "      <td>355000.0</td>\n",
       "      <td>Right</td>\n",
       "      <td>4.0</td>\n",
       "      <td>5.0</td>\n",
       "      <td>4.0</td>\n",
       "      <td>RCM</td>\n",
       "      <td>5.92</td>\n",
       "      <td>154.0</td>\n",
       "      <td>196400000.0</td>\n",
       "      <td>8</td>\n",
       "      <td>High</td>\n",
       "      <td>High</td>\n",
       "    </tr>\n",
       "  </tbody>\n",
       "</table>\n",
       "</div>"
      ],
      "text/plain": [
       "                   Age Nationality  Overall Rating  Potential  \\\n",
       "Name                                                            \n",
       "L. Messi            31   Argentina              94         94   \n",
       "Cristiano Ronaldo   33    Portugal              94         94   \n",
       "Neymar Jr           26      Brazil              92         93   \n",
       "De Gea              27       Spain              91         93   \n",
       "K. De Bruyne        27     Belgium              91         92   \n",
       "\n",
       "                                  Club    Value (€)  Wage (€) Preferred Foot  \\\n",
       "Name                                                                           \n",
       "L. Messi                  FC Barcelona  110500000.0  565000.0           Left   \n",
       "Cristiano Ronaldo             Juventus   77000000.0  405000.0          Right   \n",
       "Neymar Jr          Paris Saint-Germain  118500000.0  290000.0          Right   \n",
       "De Gea               Manchester United   72000000.0  260000.0          Right   \n",
       "K. De Bruyne           Manchester City  102000000.0  355000.0          Right   \n",
       "\n",
       "                   International Reputation  Weak Foot  Skill Moves Position  \\\n",
       "Name                                                                           \n",
       "L. Messi                                5.0        4.0          4.0       RF   \n",
       "Cristiano Ronaldo                       5.0        4.0          5.0       ST   \n",
       "Neymar Jr                               5.0        5.0          5.0       LW   \n",
       "De Gea                                  4.0        3.0          1.0       GK   \n",
       "K. De Bruyne                            4.0        5.0          4.0      RCM   \n",
       "\n",
       "                   Height (ft)  Weight (lbs)  Release Clause (€)  \\\n",
       "Name                                                               \n",
       "L. Messi                  5.58         159.0         226500000.0   \n",
       "Cristiano Ronaldo         6.17         183.0         127100000.0   \n",
       "Neymar Jr                 5.75         150.0         228100000.0   \n",
       "De Gea                    6.33         168.0         138600000.0   \n",
       "K. De Bruyne              5.92         154.0         196400000.0   \n",
       "\n",
       "                   Contract Duration Attack Rate Defence Rate  \n",
       "Name                                                           \n",
       "L. Messi                          17      Medium       Medium  \n",
       "Cristiano Ronaldo                  4        High          Low  \n",
       "Neymar Jr                          5        High       Medium  \n",
       "De Gea                             9      Medium       Medium  \n",
       "K. De Bruyne                       8        High         High  "
      ]
     },
     "execution_count": 46,
     "metadata": {},
     "output_type": "execute_result"
    }
   ],
   "source": [
    "dat1.head()"
   ]
  },
  {
   "cell_type": "markdown",
   "metadata": {},
   "source": [
    "## 5.1 Creating Dummies for Categorical Variables "
   ]
  },
  {
   "cell_type": "code",
   "execution_count": 47,
   "metadata": {},
   "outputs": [],
   "source": [
    "# Creating dummies using one-hot technique\n",
    "Nationality = pd.get_dummies(dat1['Nationality'], prefix = 'Nat')\n",
    "Club = pd.get_dummies(dat1['Club'], prefix='Club')\n",
    "Preferred_Foot = pd.get_dummies(dat1['Preferred Foot'], prefix = 'PF')\n",
    "Position = pd.get_dummies(dat1['Position'], prefix = 'Pos')\n",
    "Attack_Rate = pd.get_dummies(dat1['Attack Rate'], prefix = 'ARate')\n",
    "Defence_Rate = pd.get_dummies(dat1['Defence Rate'], prefix = 'DRate')"
   ]
  },
  {
   "cell_type": "code",
   "execution_count": 48,
   "metadata": {},
   "outputs": [],
   "source": [
    "X = pd.concat([Nationality, Club, Preferred_Foot, Position, Attack_Rate, Defence_Rate,\n",
    "              dat1[['Age', 'Overall Rating', 'Potential', 'Value (€)',                    \n",
    "                    'International Reputation', 'Weak Foot', 'Skill Moves', 'Height (ft)',\n",
    "                    'Weight (lbs)', 'Release Clause (€)', 'Contract Duration']]],axis=1,sort = False)\n",
    "y = dat1['Wage (€)']"
   ]
  },
  {
   "cell_type": "code",
   "execution_count": 49,
   "metadata": {},
   "outputs": [
    {
     "data": {
      "text/plain": [
       "(16643, 858)"
      ]
     },
     "execution_count": 49,
     "metadata": {},
     "output_type": "execute_result"
    }
   ],
   "source": [
    "X.shape"
   ]
  },
  {
   "cell_type": "markdown",
   "metadata": {},
   "source": [
    "## 5.2 Regression Analysis"
   ]
  },
  {
   "cell_type": "code",
   "execution_count": 50,
   "metadata": {},
   "outputs": [],
   "source": [
    "dat3 = dat1"
   ]
  },
  {
   "cell_type": "code",
   "execution_count": 51,
   "metadata": {},
   "outputs": [],
   "source": [
    "dat4 = dat3.drop(['Wage (€)'],axis=1)\n",
    "\n",
    "X1 = pd.concat([Nationality, Club, Preferred_Foot, Position, Attack_Rate, Defence_Rate,\n",
    "               dat4],axis=1,sort=False)"
   ]
  },
  {
   "cell_type": "code",
   "execution_count": 52,
   "metadata": {},
   "outputs": [],
   "source": [
    "X2 = X1.drop(['Position', 'Attack Rate', 'Preferred Foot', 'Nationality', 'Defence Rate', 'Club', \n",
    "              'Nat_Afghanistan', 'Club_ SSV Jahn Regensburg', 'PF_Left', 'Pos_CAM', \n",
    "             'ARate_Low', 'DRate_ Low'],axis=1)\n",
    "X2['Const'] = 1"
   ]
  },
  {
   "cell_type": "code",
   "execution_count": 53,
   "metadata": {},
   "outputs": [],
   "source": [
    "X2.index = range(0,16643)"
   ]
  },
  {
   "cell_type": "code",
   "execution_count": 54,
   "metadata": {},
   "outputs": [],
   "source": [
    "from sklearn.linear_model import LinearRegression\n",
    "mod_sk = LinearRegression(fit_intercept=False).fit(X2,y)"
   ]
  },
  {
   "cell_type": "code",
   "execution_count": 55,
   "metadata": {},
   "outputs": [
    {
     "name": "stdout",
     "output_type": "stream",
     "text": [
      "[ 1.06381887e+03  8.68203691e+02 -4.59144190e+02  4.55968057e+02\n",
      " -1.89500118e+03  9.17465234e+02  5.06688377e+03  1.58319938e+03\n",
      "  1.66348005e+03 -2.39792071e+02 -1.84276271e+03 -1.45151343e+03\n",
      "  2.23859885e+03  3.00014832e+02  1.51982621e+03 -2.52803407e+03\n",
      "  1.19846299e+03  1.42412429e+03 -4.10085934e+02  2.13777825e+03\n",
      " -2.01181315e+03  1.11666655e+03  1.31739904e+00  1.49180561e+03\n",
      "  2.29066488e+03 -3.87204400e+02 -6.45140242e+03  1.53923533e+04\n",
      "  1.89310997e+03  9.87844721e+03  2.42481334e+03 -2.27703525e+02\n",
      "  6.66126308e+01  2.53127007e+03  3.80027313e+03  1.94990148e+03\n",
      "  1.08611404e+03 -2.18642183e+03  6.51930679e+02  5.60464620e+02\n",
      "  2.24291163e+02  6.66675531e+03  3.40483932e+03  1.20061527e+03\n",
      "  2.83806557e+03 -2.58143908e+03  4.63569155e+03 -4.89214410e+02\n",
      "  1.68411369e+03 -9.28159654e+02  6.44335761e+02  9.60878038e+02\n",
      " -7.06265701e+02  6.39126681e+02 -2.49308841e+02  4.29362295e+03\n",
      "  3.05959860e+03  1.54259608e+03  1.21492881e+03  1.77127899e+03\n",
      "  2.94513298e+03 -1.75670059e+03  5.53642328e+02  2.03079187e+03\n",
      "  2.32626768e+02  2.55501238e+03 -1.89113089e+03  1.74231031e+03\n",
      " -8.48729491e+02  2.69284119e+03  3.11963713e+02  2.47299375e+03\n",
      "  5.41343493e+03  2.12220956e+03  1.43612294e+03  3.11651417e+02\n",
      "  4.41920688e+02  2.91878864e+02 -6.72856527e+02  3.36490660e+03\n",
      "  1.20982508e+03  3.77373211e+02  4.13615551e+03 -1.39412084e+03\n",
      "  1.84091229e+03  1.63012987e+03  2.17120004e+03 -7.60962223e+02\n",
      "  4.50350816e+03  7.37911397e+02  1.74244801e+03  2.03616132e+03\n",
      "  4.84233767e+02  9.30686631e+02  2.63135390e+03  1.83799112e+03\n",
      "  6.69267496e+01 -6.45318695e+01 -2.53509501e+03  1.60425771e+03\n",
      " -2.25460954e+02 -1.93186622e+03  1.40927570e+03  9.67682223e+02\n",
      " -4.32034673e+02  3.93114805e+02  2.59049621e+03  2.80819233e+03\n",
      "  1.16307449e+03  4.52616889e+02  1.38751694e+03 -1.86471135e+03\n",
      "  1.15099029e+03 -1.03876677e+04 -4.69176722e+02  1.53564079e+03\n",
      "  9.96508031e+02 -4.33996213e+02  4.49540972e+03  4.81452605e+02\n",
      " -1.39186301e+02  3.64883091e+03  6.72411100e+03 -1.66324318e+03\n",
      "  1.42135175e+03  6.00046616e+03  2.36507440e+03 -3.15493596e+03\n",
      " -1.23535725e+03  6.73639396e+02  7.07151772e+02  4.39712834e+01\n",
      " -2.56366659e+02 -2.37004929e+03  1.35867655e+03  2.87790781e+03\n",
      "  2.33439372e+02 -5.70184241e+02 -3.48881359e+03  9.40604044e+02\n",
      "  7.79836125e+02  1.16399933e+03 -1.80122681e+02  3.74744777e+03\n",
      " -1.01150192e+03  4.67256872e+03  2.20953769e+02  1.36448004e+03\n",
      "  1.18249970e+03  2.48688749e+02  8.43572657e+02  2.22548978e+03\n",
      " -3.57411369e+03  2.27447270e+03  1.17956129e+03  7.55751998e+03\n",
      "  9.72582224e+02 -1.59550812e+03  7.97927627e+02  7.29054441e+02\n",
      "  1.47859981e+03 -3.43828830e+02 -8.50840416e+02  1.29460332e+03\n",
      "  4.32632499e+03  8.84505760e+03  4.76253819e+03  2.51354368e+02\n",
      " -4.48671704e+01  1.08649698e+03 -2.64866285e+02 -8.53718430e+03\n",
      "  2.92922432e+03 -5.08870612e+02  5.54940982e+01 -1.14433601e+03\n",
      "  1.76396413e+04  5.16667776e+02  4.22849023e+03  3.87613266e+02\n",
      "  1.32911743e+03  1.34929410e+03  2.54655638e+03  1.85515105e+03\n",
      " -1.01083302e+03 -1.13857484e+04  2.87065336e+03  1.10141149e+04\n",
      "  2.90062931e+03  5.61011187e+03  5.84150281e+03  4.41401491e+03\n",
      "  2.31456027e+03  1.24613623e+04  1.06607439e+04  9.80785753e+03\n",
      "  4.86769489e+03  4.50243705e+03  8.15882182e+03  4.95104401e+03\n",
      "  5.66554605e+03  7.90460848e+02  4.12807353e+02 -3.16272824e+03\n",
      "  1.86051129e+03  8.20053996e+02 -3.71783554e+03  4.52344714e+03\n",
      "  2.34751819e+03  9.32239143e+02 -6.89266413e+02  4.01950777e+04\n",
      " -1.13477963e+03  3.89691904e+03  3.96283294e+02 -3.04962925e+03\n",
      "  3.46156884e+03 -4.78152107e+03 -2.77455136e+03 -1.96588916e+03\n",
      " -5.92900278e+03  1.09035040e+04 -2.92869126e+03  3.30347067e+02\n",
      "  1.05930908e+03 -1.46478401e+03  6.33866236e+02 -1.08865318e+03\n",
      "  3.13688042e+03 -4.40645156e+02  4.40364732e+03  1.05971865e+04\n",
      " -9.59942082e+03 -1.04160265e+04  8.81104614e+02 -2.61050271e+03\n",
      "  1.33122277e+04  8.12495217e+03  1.14019766e+04  2.82542544e+03\n",
      " -3.36989803e+02  1.27894973e+03  2.62663951e+03  7.26534836e+03\n",
      "  3.33849163e+03  8.16831696e+02 -3.10584952e+03  4.77678298e+03\n",
      "  2.26023879e+04 -2.69337024e+03  2.34583068e+03  2.64528596e+03\n",
      "  1.24407345e+04 -9.62094937e+02  1.61215445e+04 -2.48636504e+03\n",
      "  1.46475644e+04  2.33034391e+03  5.42563765e+03  2.05316011e+04\n",
      "  3.46325389e+03  3.94353152e+03  2.99395066e+03  6.35699925e+02\n",
      " -2.45649828e+03  1.17272128e+02 -1.85409720e+03  5.79033439e+02\n",
      " -9.84306822e+02  7.42910142e+03  3.91861141e+02  6.87998194e+02\n",
      "  9.92178109e+02 -6.51294544e+02 -1.91440382e+03  1.23665614e+03\n",
      " -2.03921387e+03 -3.07610563e+03  4.09026852e+02  8.78062434e+02\n",
      "  5.30046570e+03  3.11287692e+03  1.70567703e+04  2.37679732e+03\n",
      " -1.53235938e+03  2.21137991e+03  1.84083100e+04 -1.94332090e+03\n",
      " -4.21983389e+03  6.38511327e+02 -9.58850310e+03  2.01990847e+03\n",
      "  3.89444038e+03  4.70550391e+04  2.64706127e+03 -3.18887722e+03\n",
      " -1.21868859e+03 -1.01407238e+04 -4.65363992e+02  4.67508438e+01\n",
      "  2.11880271e+04  5.52710394e+03 -1.45216646e+01  1.15106701e+03\n",
      "  1.87667160e+02  1.36738289e+03  3.09283665e+03  2.10493782e+03\n",
      "  1.86910469e+03  2.41708697e+02 -2.75334561e+03  8.43505348e+03\n",
      "  1.96668656e+03  5.19473174e+03 -1.46826019e+03  4.77747317e+03\n",
      " -1.73849957e+03 -1.72211380e+03 -3.37904620e+03  1.55880864e+03\n",
      " -1.19751196e+03  3.16233249e+03 -8.83931887e+02  1.76204953e+03\n",
      "  4.06159144e+03 -1.87827996e+03  7.63907273e+03  9.17066456e+03\n",
      "  1.74196476e+04 -2.46364858e+03  9.10969811e+02  9.33470964e+02\n",
      " -4.15147605e+03  1.35585241e+03 -1.81805549e+03 -1.35482945e+04\n",
      " -2.13047045e+03  7.42844991e+02  3.77502065e+02 -2.24248925e+03\n",
      " -3.12873870e+03  1.67741828e+03 -3.95638994e+03 -3.33328068e+03\n",
      "  7.35620865e+03 -2.20549768e+03  1.69477258e+04  3.03111513e+03\n",
      "  9.34193177e+02 -7.96550535e+03 -1.42820283e+03  3.08218859e+03\n",
      "  1.18718084e+03  1.09017744e+03 -1.30268175e+04  2.29205636e+02\n",
      " -3.03431143e+02  5.67560126e+03 -6.84883600e+02  8.81722323e+02\n",
      "  4.09897099e+03 -1.10520227e+03  1.32262725e+02  1.50844072e+03\n",
      "  6.56622739e+03  3.69944251e+04 -2.05240176e+02  3.18682220e+03\n",
      " -7.51139455e+02  5.45136335e+02  1.08509842e+03  7.61098065e+04\n",
      "  4.96328085e+03  7.74508385e+03 -1.18645953e+03 -2.46058774e+03\n",
      "  1.21949419e+02 -1.24177692e+03 -1.51287055e+02  9.53449282e+03\n",
      "  4.63621153e+02 -1.06342589e+03  4.80397362e+03  2.94547362e+03\n",
      "  4.93429770e+02 -3.38138050e+02  9.52528525e+02 -6.50832047e+02\n",
      "  4.83914852e+03  2.36545822e+03  2.23172710e+03 -2.33751627e+04\n",
      "  7.69343269e+03 -1.56357072e+03 -2.78181342e+03  4.41463720e+03\n",
      "  1.47724122e+03  1.18442330e+03  2.04293236e+03  6.56550920e+02\n",
      " -2.05176659e+03  3.52480671e+03 -5.09043238e+02 -1.67026576e+02\n",
      "  1.46789976e+03  1.70634772e+03 -1.46788879e+03 -7.81270156e+02\n",
      " -1.52397411e+03  2.42150782e+04 -2.79472217e+03  1.51327845e+04\n",
      "  3.35290265e+03  8.25114495e+03 -1.64096730e+03  3.50386634e+03\n",
      "  5.96397971e+03  6.45886286e+02  1.22675215e+03  1.78925624e+04\n",
      " -8.36868107e+02  1.72461859e+02 -6.57781651e+02  1.77685382e+04\n",
      " -2.52747697e+03 -2.52680678e+03 -1.75671417e+03  2.24671478e+03\n",
      "  2.09274645e+03  1.27119002e+03  2.46966651e+02  5.20258188e+03\n",
      "  7.22730927e+02  5.32957413e+02  1.11062501e+03 -1.09038695e+03\n",
      "  2.78024829e+03  5.64446502e+03  1.20418340e+04 -7.77797204e+03\n",
      " -7.55416631e+03 -8.29013548e+03 -2.98482148e+03  8.18169941e+01\n",
      "  5.44684463e+03 -7.26683107e+02 -4.52140625e+02 -1.71216568e+03\n",
      "  1.89847364e+03 -8.78933151e+02  6.08983933e+03  1.73423889e+03\n",
      " -9.05331897e+03 -1.45896898e+03 -8.10907976e+03  3.30160254e+02\n",
      "  1.98678496e+03  8.32156976e+02 -2.75550271e+02 -5.12994668e+03\n",
      "  5.32677201e+01 -2.20572207e+03  1.53795368e+04  8.04494376e+03\n",
      " -1.30808568e+03 -1.29999361e+03 -4.94383120e+02 -7.55660095e+02\n",
      " -1.93232150e+03 -8.74398494e+02 -2.77682882e+03  1.08606661e+03\n",
      " -2.75424317e+03 -3.72281612e+03  1.12980716e+04  7.72512973e+03\n",
      "  3.58532540e+03 -2.16149111e+03  6.24961914e+02 -3.77481014e+03\n",
      " -3.28102001e+03 -3.08838091e+03 -2.37335037e+03 -8.61991916e+03\n",
      " -4.96368093e+03  5.23828037e+04 -4.51755762e+03  2.16741005e+03\n",
      "  6.02699984e+02 -1.65355543e+03 -1.33838992e+03  6.31973703e+02\n",
      "  1.35332392e+03  1.38544405e+03 -3.75511574e+03 -1.38821872e+03\n",
      " -8.59241295e+01 -2.65342064e+03 -2.97928361e+03  5.20893855e+02\n",
      " -3.70656785e+03  2.28893350e+02  1.93938643e+03 -9.87779045e+02\n",
      " -1.95666307e+03 -6.13365380e+03 -2.66553668e+02  5.74668218e+03\n",
      " -5.82346347e+02 -3.50746813e+03  7.49198643e+03  6.11914954e+02\n",
      " -1.67880094e+03 -3.00587300e+02 -1.30044516e+02  1.51736287e+04\n",
      "  5.40180772e+01  2.37884435e+04  2.54210454e+03 -1.39971414e+03\n",
      "  1.92519223e+03  3.87524724e+03  4.01853922e+04  1.27079158e+03\n",
      " -2.05396013e+03  1.03517306e+03 -1.87310246e+04 -3.92457982e+03\n",
      "  3.42702798e+03  3.88063022e+03 -8.27897560e+02  1.57244802e+03\n",
      " -9.03982274e+02  4.95473916e+04  5.35048180e+04  4.49093103e+03\n",
      "  2.84034155e+03  1.09718203e+02 -3.05447846e+03  1.93924012e+04\n",
      " -1.67703263e+03  2.71358907e+04 -3.75460335e+03  4.84683063e+03\n",
      "  4.15030069e+03 -2.73663765e+03 -3.60534008e+02  1.93240467e+03\n",
      "  1.42009988e+04  3.59883729e+03 -2.93843932e+03  1.34674344e+03\n",
      " -2.13646863e+03  2.42509394e+03 -4.25318519e+02  5.25635940e+02\n",
      " -4.80680620e+03  1.08015908e+04 -1.36443151e+03 -1.26879943e+03\n",
      " -2.96296043e+03 -2.14465311e+03 -2.15501612e+03  1.57347088e+04\n",
      "  2.59647550e+03  1.97485913e+03  3.74028084e+03  8.89492346e+03\n",
      "  1.88465569e+04  3.70752733e+03  3.04841456e+03  4.06528994e+03\n",
      " -3.09740399e+02  2.03866817e+03  3.63238362e+03  2.71919429e+03\n",
      " -1.24348001e+04  1.15396343e+04  7.59773946e+03 -2.79481856e+03\n",
      " -2.64498649e+03 -3.46038272e+03 -5.69849344e+02  3.54059811e+03\n",
      " -1.08098066e+04  1.36692175e+03 -1.29220485e+04 -5.97703605e+03\n",
      "  8.19850869e+03 -1.48734458e+03 -1.82344321e+03 -4.99094873e+03\n",
      "  2.94516073e+03 -1.03886873e+03  1.39555037e+04  1.31283572e+04\n",
      " -3.35627403e+03  9.73983817e+02 -1.77245100e+03 -8.99464365e+02\n",
      " -1.95762270e+03  3.56396023e+03 -1.66977718e+03 -3.82321746e+01\n",
      "  3.00132305e+03 -2.33356310e+01 -1.67949557e+03  2.37141628e+03\n",
      " -2.09781113e+03 -3.13919720e+03  4.57107477e+03  4.75446563e+03\n",
      "  6.40106532e+02  2.27634898e+03  1.58752248e+03  5.52266860e+03\n",
      " -1.70662486e+03  2.83233778e+03  2.91512255e+03  2.38612826e+02\n",
      "  1.34586895e+03  2.19396424e+03  1.08716423e+03  7.66280056e+02\n",
      "  1.84725887e+04 -1.80768222e+03  1.83959553e+03  9.47541248e+03\n",
      " -7.49421151e+03  8.09308501e+04  1.15135255e+03 -2.58285536e+03\n",
      "  2.95630346e+02  4.46356323e+02  3.76815396e+03  1.11122944e+03\n",
      " -6.71752819e+02 -1.33751851e+03 -3.99349167e+03  2.62909811e+03\n",
      "  1.94391513e+03  1.69122733e+04  1.90404523e+03 -1.14955471e+03\n",
      "  8.01467943e+03 -7.34006782e+02 -3.16130663e+00 -5.39927421e+03\n",
      " -2.01870280e+03  3.21659164e+03  3.92965755e+02  8.93643556e+02\n",
      " -6.34891481e+02 -6.49649657e+02  2.18721392e+03  4.82886567e+03\n",
      "  3.50358947e+03 -1.26981770e+03 -1.50706716e+03  2.06775475e+03\n",
      " -6.54097042e+03  2.79582656e+03 -9.48127373e+01 -1.99366347e+04\n",
      " -2.40009878e+03  2.81581918e+03  3.84800411e+02 -1.78516516e+03\n",
      " -1.75054665e+03 -8.28500821e+02  3.07306333e+02  1.00718824e+03\n",
      " -5.17639839e+03  6.64448377e+03 -1.98596853e+03  3.33724041e+03\n",
      " -2.20126932e+03  1.96780055e+02  3.35337131e+02 -8.22681097e+02\n",
      " -1.87524543e+03 -3.78194266e+03 -2.17071535e+03  1.19683663e+03\n",
      "  5.23189471e+03 -1.22291074e+03  1.51710605e+04  3.46079685e+03\n",
      " -3.31263871e+03 -1.28364233e+04 -1.58849308e+04  2.60212612e+03\n",
      " -7.89924238e+03 -9.23734528e+03 -1.13938423e+04  4.62161634e+03\n",
      "  9.54268186e+03 -4.36111806e+03 -3.71992501e+03  3.42512849e+03\n",
      "  3.82828548e+02  2.48317927e+03  2.45966900e+03  1.37033734e+04\n",
      "  2.40710410e+03  4.55021954e+02 -1.05924326e+03 -4.32416452e+03\n",
      " -1.71952374e+04 -8.86577264e+02  1.18136584e+03 -1.52401578e+04\n",
      " -3.00534357e+03  1.30841569e+03  1.11311632e+03  1.46703344e+03\n",
      "  1.95273814e+03  1.27711129e+03  6.24025101e+02  2.97504586e+02\n",
      "  3.50013111e+03  5.70002931e+03  2.31903342e+03 -1.05980333e+03\n",
      "  3.05175589e+03  1.34073017e+04 -1.54238750e+03  3.42149678e+03\n",
      " -2.50201315e+03  7.18704867e+03  2.85750527e+03 -2.30748651e+02\n",
      "  2.89976460e+02  1.87644636e+03 -1.30013851e+03 -1.05267402e+03\n",
      " -7.96332388e+03 -9.61848328e+03  1.35580386e+03  1.85733788e+04\n",
      "  6.58810297e+03 -5.00729984e+03  2.84531816e+04  5.85402344e+03\n",
      "  6.53910776e+03  2.58266114e+03 -1.18142059e+03 -6.91398832e+02\n",
      "  5.12427649e+03  1.43025007e+02  3.34487954e+02 -3.00655139e+03\n",
      " -9.23548240e+02 -2.05377175e+03  2.36624167e+03 -2.14201427e+03\n",
      " -4.73096695e+02 -2.03847482e+02 -1.38858903e+03 -2.97161422e+03\n",
      "  1.68084964e+03 -2.67354738e+03 -3.88623814e+03  3.66633158e+02\n",
      " -4.32676554e+03  4.03000304e+02 -2.09763481e+03 -4.20217141e+03\n",
      "  3.98936426e+02  2.89268627e+02 -1.38569525e+03  4.44956230e+03\n",
      "  2.57414550e+03 -7.78753447e+02 -1.24674747e+03  8.75783824e+03\n",
      " -8.05556638e+02 -5.87423033e+03 -2.84682204e+01 -6.77889660e+03\n",
      "  2.01257234e+03  8.08813166e+01 -3.65249111e+03 -1.57256646e+03\n",
      " -3.32804892e+02  1.36177633e+03  5.93351686e+02  2.85839813e+03\n",
      "  1.71818640e+03  1.85205780e+04 -2.39803808e+03  1.01949603e+04\n",
      "  3.03582707e+04 -6.22278302e+02  1.62767339e+04  3.06212081e+02\n",
      " -1.47091666e+02 -4.70190839e+02  5.53522517e+02  1.95098149e+04\n",
      "  1.25420501e+03  1.85261884e+03  1.61254005e+03 -3.34446393e+03\n",
      " -7.42534518e+02 -1.07489651e+03  1.47201342e+03 -6.61351292e+02\n",
      " -8.81769688e+01 -3.34554721e+02  9.00136136e+01 -1.36539802e+02\n",
      "  2.14019753e+02  8.75753541e+02  4.58000296e+02 -2.12480161e+03\n",
      "  8.89299237e+02  7.97051024e+02 -3.30228439e+02 -8.62675566e+02\n",
      " -1.52475808e+02 -7.29479882e+03  2.45079113e+02 -6.12868158e+02\n",
      "  9.11825122e+02  4.62760036e+02 -6.11944051e+02  7.87449403e+02\n",
      "  3.97993841e+02 -2.76081014e+02  2.08710050e+02  1.30065908e+04\n",
      "  3.67822999e+02  3.44292785e+02  9.82348766e+02  3.53811938e+02\n",
      "  8.56329784e+02  5.47343657e+01  8.68737506e+01  6.03641292e+02\n",
      "  1.57073268e+02  1.76080840e+02  1.43735446e+02 -2.83318369e+02\n",
      "  2.49949599e-03  7.50622343e+03 -2.44481385e+02 -7.58621217e+02\n",
      " -2.30871271e+02  5.82578415e+00 -2.87045573e-05  1.11849954e+02\n",
      "  5.53393475e+02]\n"
     ]
    }
   ],
   "source": [
    "print(mod_sk.coef_)"
   ]
  },
  {
   "cell_type": "markdown",
   "metadata": {},
   "source": [
    "## 5.3 Data Partition"
   ]
  },
  {
   "cell_type": "code",
   "execution_count": 56,
   "metadata": {},
   "outputs": [],
   "source": [
    "from sklearn.model_selection import train_test_split\n",
    "\n",
    "# 40-60% simple split\n",
    "# To make the result reproducible, set the random_state\n",
    "train_y,test_y,train_X,test_X = train_test_split(y, X,\n",
    "                                                 test_size=0.4,\n",
    "                                                 random_state=123)"
   ]
  },
  {
   "cell_type": "code",
   "execution_count": 57,
   "metadata": {},
   "outputs": [
    {
     "data": {
      "text/plain": [
       "(9985, 858)"
      ]
     },
     "execution_count": 57,
     "metadata": {},
     "output_type": "execute_result"
    }
   ],
   "source": [
    "train_X.shape"
   ]
  },
  {
   "cell_type": "code",
   "execution_count": 58,
   "metadata": {},
   "outputs": [
    {
     "data": {
      "text/plain": [
       "(6658, 858)"
      ]
     },
     "execution_count": 58,
     "metadata": {},
     "output_type": "execute_result"
    }
   ],
   "source": [
    "test_X.shape"
   ]
  },
  {
   "cell_type": "markdown",
   "metadata": {},
   "source": [
    "## 5.4 Normalize Data"
   ]
  },
  {
   "cell_type": "code",
   "execution_count": 59,
   "metadata": {},
   "outputs": [],
   "source": [
    "from sklearn import preprocessing\n",
    "\n",
    "# Create a scaler to do the transformation\n",
    "scaler = preprocessing.MinMaxScaler().fit(train_X)\n",
    "\n",
    "train_scale_y = preprocessing.MinMaxScaler().fit(train_y.values.reshape(-1,1).astype(float))"
   ]
  },
  {
   "cell_type": "code",
   "execution_count": 60,
   "metadata": {},
   "outputs": [],
   "source": [
    "# Transform training X\n",
    "train_X_norm = pd.DataFrame(scaler.transform(train_X))\n",
    "train_X_norm.columns = train_X.columns\n",
    "\n",
    "# Transform test X\n",
    "test_X_norm = pd.DataFrame(scaler.transform(test_X))\n",
    "test_X_norm.columns = test_X.columns\n",
    "\n",
    "# Transform training y\n",
    "train_y_norm = train_scale_y.transform(train_y.values.reshape(-1,1))\n",
    "train_y_norm = pd.Series(train_y_norm.reshape(train_y.shape[0],))\n",
    "\n",
    "# Transform test y\n",
    "test_y_norm = train_scale_y.transform(test_y.values.reshape(-1,1))\n",
    "test_y_norm = pd.Series(test_y_norm.reshape(test_y.shape[0],))\n"
   ]
  },
  {
   "cell_type": "code",
   "execution_count": 61,
   "metadata": {},
   "outputs": [
    {
     "data": {
      "text/html": [
       "<div>\n",
       "<style scoped>\n",
       "    .dataframe tbody tr th:only-of-type {\n",
       "        vertical-align: middle;\n",
       "    }\n",
       "\n",
       "    .dataframe tbody tr th {\n",
       "        vertical-align: top;\n",
       "    }\n",
       "\n",
       "    .dataframe thead th {\n",
       "        text-align: right;\n",
       "    }\n",
       "</style>\n",
       "<table border=\"1\" class=\"dataframe\">\n",
       "  <thead>\n",
       "    <tr style=\"text-align: right;\">\n",
       "      <th></th>\n",
       "      <th>count</th>\n",
       "      <th>mean</th>\n",
       "      <th>std</th>\n",
       "      <th>min</th>\n",
       "      <th>25%</th>\n",
       "      <th>50%</th>\n",
       "      <th>75%</th>\n",
       "      <th>max</th>\n",
       "    </tr>\n",
       "  </thead>\n",
       "  <tbody>\n",
       "    <tr>\n",
       "      <th>Club_Bury</th>\n",
       "      <td>9985.0</td>\n",
       "      <td>0.001903</td>\n",
       "      <td>0.043582</td>\n",
       "      <td>0.0</td>\n",
       "      <td>0.0</td>\n",
       "      <td>0.0</td>\n",
       "      <td>0.0</td>\n",
       "      <td>1.0</td>\n",
       "    </tr>\n",
       "    <tr>\n",
       "      <th>Club_Clermont Foot 63</th>\n",
       "      <td>9985.0</td>\n",
       "      <td>0.001602</td>\n",
       "      <td>0.040000</td>\n",
       "      <td>0.0</td>\n",
       "      <td>0.0</td>\n",
       "      <td>0.0</td>\n",
       "      <td>0.0</td>\n",
       "      <td>1.0</td>\n",
       "    </tr>\n",
       "    <tr>\n",
       "      <th>Club_Hertha BSC</th>\n",
       "      <td>9985.0</td>\n",
       "      <td>0.001402</td>\n",
       "      <td>0.037420</td>\n",
       "      <td>0.0</td>\n",
       "      <td>0.0</td>\n",
       "      <td>0.0</td>\n",
       "      <td>0.0</td>\n",
       "      <td>1.0</td>\n",
       "    </tr>\n",
       "    <tr>\n",
       "      <th>Club_Wigan Athletic</th>\n",
       "      <td>9985.0</td>\n",
       "      <td>0.001202</td>\n",
       "      <td>0.034648</td>\n",
       "      <td>0.0</td>\n",
       "      <td>0.0</td>\n",
       "      <td>0.0</td>\n",
       "      <td>0.0</td>\n",
       "      <td>1.0</td>\n",
       "    </tr>\n",
       "    <tr>\n",
       "      <th>Nat_Mozambique</th>\n",
       "      <td>9985.0</td>\n",
       "      <td>0.000300</td>\n",
       "      <td>0.017332</td>\n",
       "      <td>0.0</td>\n",
       "      <td>0.0</td>\n",
       "      <td>0.0</td>\n",
       "      <td>0.0</td>\n",
       "      <td>1.0</td>\n",
       "    </tr>\n",
       "  </tbody>\n",
       "</table>\n",
       "</div>"
      ],
      "text/plain": [
       "                        count      mean       std  min  25%  50%  75%  max\n",
       "Club_Bury              9985.0  0.001903  0.043582  0.0  0.0  0.0  0.0  1.0\n",
       "Club_Clermont Foot 63  9985.0  0.001602  0.040000  0.0  0.0  0.0  0.0  1.0\n",
       "Club_Hertha BSC        9985.0  0.001402  0.037420  0.0  0.0  0.0  0.0  1.0\n",
       "Club_Wigan Athletic    9985.0  0.001202  0.034648  0.0  0.0  0.0  0.0  1.0\n",
       "Nat_Mozambique         9985.0  0.000300  0.017332  0.0  0.0  0.0  0.0  1.0"
      ]
     },
     "execution_count": 61,
     "metadata": {},
     "output_type": "execute_result"
    }
   ],
   "source": [
    "train_X_norm.describe().transpose().sample(5)"
   ]
  },
  {
   "cell_type": "code",
   "execution_count": 62,
   "metadata": {},
   "outputs": [
    {
     "data": {
      "text/plain": [
       "count    9985.000000\n",
       "mean        0.015346\n",
       "std         0.039397\n",
       "min         0.000000\n",
       "25%         0.000000\n",
       "50%         0.003546\n",
       "75%         0.012411\n",
       "max         1.000000\n",
       "dtype: float64"
      ]
     },
     "execution_count": 62,
     "metadata": {},
     "output_type": "execute_result"
    }
   ],
   "source": [
    "train_y_norm.describe().transpose()"
   ]
  },
  {
   "cell_type": "code",
   "execution_count": 63,
   "metadata": {},
   "outputs": [
    {
     "data": {
      "text/html": [
       "<div>\n",
       "<style scoped>\n",
       "    .dataframe tbody tr th:only-of-type {\n",
       "        vertical-align: middle;\n",
       "    }\n",
       "\n",
       "    .dataframe tbody tr th {\n",
       "        vertical-align: top;\n",
       "    }\n",
       "\n",
       "    .dataframe thead th {\n",
       "        text-align: right;\n",
       "    }\n",
       "</style>\n",
       "<table border=\"1\" class=\"dataframe\">\n",
       "  <thead>\n",
       "    <tr style=\"text-align: right;\">\n",
       "      <th></th>\n",
       "      <th>count</th>\n",
       "      <th>mean</th>\n",
       "      <th>std</th>\n",
       "      <th>min</th>\n",
       "      <th>25%</th>\n",
       "      <th>50%</th>\n",
       "      <th>75%</th>\n",
       "      <th>max</th>\n",
       "    </tr>\n",
       "  </thead>\n",
       "  <tbody>\n",
       "    <tr>\n",
       "      <th>Nat_Lebanon</th>\n",
       "      <td>6658.0</td>\n",
       "      <td>0.000000</td>\n",
       "      <td>0.000000</td>\n",
       "      <td>0.0</td>\n",
       "      <td>0.0</td>\n",
       "      <td>0.0</td>\n",
       "      <td>0.0</td>\n",
       "      <td>0.0</td>\n",
       "    </tr>\n",
       "    <tr>\n",
       "      <th>Nat_Luxembourg</th>\n",
       "      <td>6658.0</td>\n",
       "      <td>0.000300</td>\n",
       "      <td>0.017330</td>\n",
       "      <td>0.0</td>\n",
       "      <td>0.0</td>\n",
       "      <td>0.0</td>\n",
       "      <td>0.0</td>\n",
       "      <td>1.0</td>\n",
       "    </tr>\n",
       "    <tr>\n",
       "      <th>Club_Stade Brestois 29</th>\n",
       "      <td>6658.0</td>\n",
       "      <td>0.002253</td>\n",
       "      <td>0.047415</td>\n",
       "      <td>0.0</td>\n",
       "      <td>0.0</td>\n",
       "      <td>0.0</td>\n",
       "      <td>0.0</td>\n",
       "      <td>1.0</td>\n",
       "    </tr>\n",
       "    <tr>\n",
       "      <th>Club_GFC Ajaccio</th>\n",
       "      <td>6658.0</td>\n",
       "      <td>0.000751</td>\n",
       "      <td>0.027396</td>\n",
       "      <td>0.0</td>\n",
       "      <td>0.0</td>\n",
       "      <td>0.0</td>\n",
       "      <td>0.0</td>\n",
       "      <td>1.0</td>\n",
       "    </tr>\n",
       "    <tr>\n",
       "      <th>Nat_Colombia</th>\n",
       "      <td>6658.0</td>\n",
       "      <td>0.032442</td>\n",
       "      <td>0.177185</td>\n",
       "      <td>0.0</td>\n",
       "      <td>0.0</td>\n",
       "      <td>0.0</td>\n",
       "      <td>0.0</td>\n",
       "      <td>1.0</td>\n",
       "    </tr>\n",
       "  </tbody>\n",
       "</table>\n",
       "</div>"
      ],
      "text/plain": [
       "                         count      mean       std  min  25%  50%  75%  max\n",
       "Nat_Lebanon             6658.0  0.000000  0.000000  0.0  0.0  0.0  0.0  0.0\n",
       "Nat_Luxembourg          6658.0  0.000300  0.017330  0.0  0.0  0.0  0.0  1.0\n",
       "Club_Stade Brestois 29  6658.0  0.002253  0.047415  0.0  0.0  0.0  0.0  1.0\n",
       "Club_GFC Ajaccio        6658.0  0.000751  0.027396  0.0  0.0  0.0  0.0  1.0\n",
       "Nat_Colombia            6658.0  0.032442  0.177185  0.0  0.0  0.0  0.0  1.0"
      ]
     },
     "execution_count": 63,
     "metadata": {},
     "output_type": "execute_result"
    }
   ],
   "source": [
    "test_X_norm.describe().transpose().sample(5)"
   ]
  },
  {
   "cell_type": "code",
   "execution_count": 64,
   "metadata": {},
   "outputs": [
    {
     "data": {
      "text/plain": [
       "count    6658.000000\n",
       "mean        0.015181\n",
       "std         0.039593\n",
       "min         0.000000\n",
       "25%         0.000000\n",
       "50%         0.003546\n",
       "75%         0.012411\n",
       "max         0.804965\n",
       "dtype: float64"
      ]
     },
     "execution_count": 64,
     "metadata": {},
     "output_type": "execute_result"
    }
   ],
   "source": [
    "test_y_norm.describe().transpose()"
   ]
  },
  {
   "cell_type": "markdown",
   "metadata": {},
   "source": [
    "## 5.5 Feature Selection Using RF"
   ]
  },
  {
   "cell_type": "code",
   "execution_count": 65,
   "metadata": {},
   "outputs": [],
   "source": [
    "from sklearn.ensemble import RandomForestRegressor"
   ]
  },
  {
   "cell_type": "markdown",
   "metadata": {},
   "source": [
    "Here, we select the most important features that will be used for developing our predictive models  "
   ]
  },
  {
   "cell_type": "code",
   "execution_count": 66,
   "metadata": {},
   "outputs": [
    {
     "data": {
      "text/plain": [
       "RandomForestRegressor(max_features=30, n_estimators=50, random_state=123)"
      ]
     },
     "execution_count": 66,
     "metadata": {},
     "output_type": "execute_result"
    }
   ],
   "source": [
    "# Train an RF regressor\n",
    "rf = RandomForestRegressor(n_estimators=50, max_features=30, random_state=123)\n",
    "rf.fit(train_X_norm,train_y_norm)"
   ]
  },
  {
   "cell_type": "code",
   "execution_count": 67,
   "metadata": {},
   "outputs": [
    {
     "data": {
      "text/html": [
       "<div>\n",
       "<style scoped>\n",
       "    .dataframe tbody tr th:only-of-type {\n",
       "        vertical-align: middle;\n",
       "    }\n",
       "\n",
       "    .dataframe tbody tr th {\n",
       "        vertical-align: top;\n",
       "    }\n",
       "\n",
       "    .dataframe thead th {\n",
       "        text-align: right;\n",
       "    }\n",
       "</style>\n",
       "<table border=\"1\" class=\"dataframe\">\n",
       "  <thead>\n",
       "    <tr style=\"text-align: right;\">\n",
       "      <th></th>\n",
       "      <th>importance</th>\n",
       "    </tr>\n",
       "  </thead>\n",
       "  <tbody>\n",
       "    <tr>\n",
       "      <th>Overall Rating</th>\n",
       "      <td>0.149345</td>\n",
       "    </tr>\n",
       "    <tr>\n",
       "      <th>Release Clause (€)</th>\n",
       "      <td>0.138760</td>\n",
       "    </tr>\n",
       "    <tr>\n",
       "      <th>Value (€)</th>\n",
       "      <td>0.123164</td>\n",
       "    </tr>\n",
       "    <tr>\n",
       "      <th>Potential</th>\n",
       "      <td>0.111284</td>\n",
       "    </tr>\n",
       "    <tr>\n",
       "      <th>International Reputation</th>\n",
       "      <td>0.094159</td>\n",
       "    </tr>\n",
       "    <tr>\n",
       "      <th>Age</th>\n",
       "      <td>0.031507</td>\n",
       "    </tr>\n",
       "    <tr>\n",
       "      <th>Contract Duration</th>\n",
       "      <td>0.031474</td>\n",
       "    </tr>\n",
       "    <tr>\n",
       "      <th>Skill Moves</th>\n",
       "      <td>0.025399</td>\n",
       "    </tr>\n",
       "    <tr>\n",
       "      <th>Club_FC Barcelona</th>\n",
       "      <td>0.020445</td>\n",
       "    </tr>\n",
       "    <tr>\n",
       "      <th>Weight (lbs)</th>\n",
       "      <td>0.015353</td>\n",
       "    </tr>\n",
       "  </tbody>\n",
       "</table>\n",
       "</div>"
      ],
      "text/plain": [
       "                          importance\n",
       "Overall Rating              0.149345\n",
       "Release Clause (€)          0.138760\n",
       "Value (€)                   0.123164\n",
       "Potential                   0.111284\n",
       "International Reputation    0.094159\n",
       "Age                         0.031507\n",
       "Contract Duration           0.031474\n",
       "Skill Moves                 0.025399\n",
       "Club_FC Barcelona           0.020445\n",
       "Weight (lbs)                0.015353"
      ]
     },
     "execution_count": 67,
     "metadata": {},
     "output_type": "execute_result"
    }
   ],
   "source": [
    "# Show feature importance\n",
    "feature_importances = pd.DataFrame(rf.feature_importances_,\n",
    "                                   index = train_X_norm.columns,\n",
    "                                   columns=['importance'])\n",
    "feature_importances = feature_importances.sort_values('importance',ascending=False)\n",
    "\n",
    "feature_importances.head(10)"
   ]
  },
  {
   "cell_type": "code",
   "execution_count": 68,
   "metadata": {},
   "outputs": [],
   "source": [
    "# Select the 100 most important features\n",
    "train_X_norm_imp = train_X_norm[feature_importances.index[range(100)]]\n",
    "\n",
    "test_X_norm_imp = test_X_norm[feature_importances.index[range(100)]]"
   ]
  },
  {
   "cell_type": "markdown",
   "metadata": {},
   "source": [
    "# 6. Predictive Modeling "
   ]
  },
  {
   "cell_type": "markdown",
   "metadata": {},
   "source": [
    "## 6.1 Random Forest Using Important Features"
   ]
  },
  {
   "cell_type": "code",
   "execution_count": 69,
   "metadata": {},
   "outputs": [],
   "source": [
    "from sklearn.ensemble import RandomForestRegressor\n",
    "from sklearn.model_selection import GridSearchCV\n",
    "from sklearn import metrics"
   ]
  },
  {
   "cell_type": "code",
   "execution_count": 70,
   "metadata": {},
   "outputs": [
    {
     "data": {
      "text/plain": [
       "{'n_estimators': [50, 100, 150, 200],\n",
       " 'max_depth': [10, 30, 50, 60, 80, 100],\n",
       " 'random_state': [123]}"
      ]
     },
     "execution_count": 70,
     "metadata": {},
     "output_type": "execute_result"
    }
   ],
   "source": [
    "para_rf = {'n_estimators':[50,100,150,200],\n",
    "           'max_depth':[10,30,50,60,80,100],\n",
    "           'random_state':[123]}\n",
    "para_rf"
   ]
  },
  {
   "cell_type": "code",
   "execution_count": 71,
   "metadata": {},
   "outputs": [
    {
     "data": {
      "text/plain": [
       "{'max_depth': 50, 'n_estimators': 150, 'random_state': 123}"
      ]
     },
     "execution_count": 71,
     "metadata": {},
     "output_type": "execute_result"
    }
   ],
   "source": [
    "rf2 = RandomForestRegressor()\n",
    "\n",
    "# Use a 5-fold cross-validation\n",
    "grid_rf = GridSearchCV(rf2, para_rf, scoring='neg_mean_squared_error', cv=5)\n",
    "grid_rf.fit(train_X_norm_imp,train_y_norm)\n",
    "\n",
    "# Obtain the best hyper-parameters\n",
    "grid_rf.best_params_"
   ]
  },
  {
   "cell_type": "markdown",
   "metadata": {},
   "source": [
    "### 6.1.1 The Optimal RF Model"
   ]
  },
  {
   "cell_type": "code",
   "execution_count": 72,
   "metadata": {},
   "outputs": [],
   "source": [
    "# Train a new RF with optimal parameters\n",
    "rf_final = RandomForestRegressor(n_estimators=150, \n",
    "                                   max_depth=30,\n",
    "                                   random_state=123)\n",
    "rf_final.fit(train_X_norm_imp,train_y_norm)\n",
    "# Predict on test set\n",
    "pred_y_rf_final = rf_final.predict(test_X_norm_imp)"
   ]
  },
  {
   "cell_type": "code",
   "execution_count": 73,
   "metadata": {},
   "outputs": [],
   "source": [
    "# Denormalizing the predicted y\n",
    "pred_y_RF = train_scale_y.inverse_transform(pred_y_rf_final.reshape(-1,1))\n",
    "pred_y_RF = pd.Series(pred_y_RF.reshape(pred_y_rf_final.shape[0],))\n"
   ]
  },
  {
   "cell_type": "code",
   "execution_count": 74,
   "metadata": {},
   "outputs": [
    {
     "data": {
      "image/png": "[encoded data removed]",
      "text/plain": [
       "<Figure size 432x288 with 1 Axes>"
      ]
     },
     "metadata": {
      "needs_background": "light"
     },
     "output_type": "display_data"
    }
   ],
   "source": [
    "import matplotlib.lines as mlines\n",
    "import matplotlib.transforms as mtransforms\n",
    "fig, ax = plt.subplots()\n",
    "ax.scatter(test_y, pred_y_RF)\n",
    "plt.xlabel('Actual Wage (€)')\n",
    "plt.ylabel('Predicted Wage (€)')\n",
    "line = mlines.Line2D([0, 1], [0, 1], color='red')\n",
    "transform = ax.transAxes\n",
    "line.set_transform(transform)\n",
    "ax.add_line(line)\n",
    "plt.show()"
   ]
  },
  {
   "cell_type": "code",
   "execution_count": 75,
   "metadata": {},
   "outputs": [
    {
     "data": {
      "text/plain": [
       "0.8535826834619127"
      ]
     },
     "execution_count": 75,
     "metadata": {},
     "output_type": "execute_result"
    }
   ],
   "source": [
    "metrics.r2_score(test_y,pred_y_RF)"
   ]
  },
  {
   "cell_type": "markdown",
   "metadata": {},
   "source": [
    "## 6.2 Support Vector Machine (SVM) Using 100 Most Important Variables"
   ]
  },
  {
   "cell_type": "code",
   "execution_count": 76,
   "metadata": {},
   "outputs": [],
   "source": [
    "from sklearn import svm"
   ]
  },
  {
   "cell_type": "code",
   "execution_count": 77,
   "metadata": {},
   "outputs": [
    {
     "data": {
      "text/plain": [
       "{'kernel': ('linear', 'rbf', 'poly'),\n",
       " 'C': [0.001, 0.005, 0.1, 0.5, 1, 5, 10, 20],\n",
       " 'gamma': [0.01, 0.02, 0.03]}"
      ]
     },
     "execution_count": 77,
     "metadata": {},
     "output_type": "execute_result"
    }
   ],
   "source": [
    "parameters = {'kernel':('linear','rbf','poly'),\n",
    "              'C':[0.001,0.005,0.1,0.5,1,5,10,20],\n",
    "              'gamma':[0.01,0.02,0.03]}\n",
    "parameters"
   ]
  },
  {
   "cell_type": "code",
   "execution_count": 78,
   "metadata": {},
   "outputs": [
    {
     "data": {
      "text/plain": [
       "{'C': 1, 'gamma': 0.02, 'kernel': 'rbf'}"
      ]
     },
     "execution_count": 78,
     "metadata": {},
     "output_type": "execute_result"
    }
   ],
   "source": [
    "svc = svm.SVR(kernel='rbf')\n",
    "grid_svr = GridSearchCV(svc, parameters, scoring='neg_mean_squared_error', cv=5)\n",
    "grid_svr.fit(train_X_norm_imp,train_y_norm)\n",
    "\n",
    "grid_svr.best_params_"
   ]
  },
  {
   "cell_type": "markdown",
   "metadata": {},
   "source": [
    "### 6.2.1 Optimal SVM Model"
   ]
  },
  {
   "cell_type": "code",
   "execution_count": 79,
   "metadata": {},
   "outputs": [],
   "source": [
    "# Train a new SVC with optimal parameters\n",
    "svr_final = svm.SVR(kernel='rbf', C=1, gamma=0.02)\n",
    "svr_final.fit(train_X_norm_imp,train_y_norm)\n",
    "\n",
    "# Predict on test set\n",
    "pred_y_svm2 = svr_final.predict(test_X_norm_imp)"
   ]
  },
  {
   "cell_type": "code",
   "execution_count": 80,
   "metadata": {},
   "outputs": [],
   "source": [
    "# Denormalizing the predicted y\n",
    "pred_y_SVM = train_scale_y.inverse_transform(pred_y_svm2.reshape(-1,1))\n",
    "pred_y_SVM = pd.Series(pred_y_SVM.reshape(pred_y_svm2.shape[0],))"
   ]
  },
  {
   "cell_type": "code",
   "execution_count": 81,
   "metadata": {},
   "outputs": [
    {
     "data": {
      "image/png": "[encoded data removed]",
      "text/plain": [
       "<Figure size 432x288 with 1 Axes>"
      ]
     },
     "metadata": {
      "needs_background": "light"
     },
     "output_type": "display_data"
    }
   ],
   "source": [
    "fig, ax = plt.subplots()\n",
    "ax.scatter(test_y, pred_y_SVM)\n",
    "plt.xlabel('Actual Wage (€)')\n",
    "plt.ylabel('Predicted Wage (€)')\n",
    "line = mlines.Line2D([0, 1], [0, 1], color='red')\n",
    "transform = ax.transAxes\n",
    "line.set_transform(transform)\n",
    "ax.add_line(line)\n",
    "plt.show()"
   ]
  },
  {
   "cell_type": "code",
   "execution_count": 82,
   "metadata": {},
   "outputs": [
    {
     "data": {
      "text/plain": [
       "0.514471446453059"
      ]
     },
     "execution_count": 82,
     "metadata": {},
     "output_type": "execute_result"
    }
   ],
   "source": [
    "metrics.r2_score(test_y_norm,pred_y_svm2)"
   ]
  },
  {
   "cell_type": "markdown",
   "metadata": {},
   "source": [
    "## 6.3 Artificial Neural Networks (ANN)"
   ]
  },
  {
   "cell_type": "code",
   "execution_count": 83,
   "metadata": {},
   "outputs": [],
   "source": [
    "from sklearn.neural_network import MLPRegressor"
   ]
  },
  {
   "cell_type": "code",
   "execution_count": 84,
   "metadata": {},
   "outputs": [
    {
     "data": {
      "text/plain": [
       "{'hidden_layer_sizes': [13, 12, 11, 10, 9, 8, 7]}"
      ]
     },
     "execution_count": 84,
     "metadata": {},
     "output_type": "execute_result"
    }
   ],
   "source": [
    "parameters = {'hidden_layer_sizes':[[40,40,40,40,40,40,40],[20,20,20,20,20,20,20],\n",
    "                                    [10,10,10,10,10,10,10],[13,12,11,10,9,8,7]]}\n",
    "\n",
    "mlp = MLPRegressor(solver='lbfgs', alpha=1e-5,\n",
    "                      random_state=1)\n",
    "grid_mlp = GridSearchCV(mlp, parameters, scoring='neg_mean_squared_error', cv=5)\n",
    "\n",
    "grid_mlp.fit(train_X_norm_imp, train_y_norm)\n",
    "\n",
    "grid_mlp.best_params_"
   ]
  },
  {
   "cell_type": "markdown",
   "metadata": {},
   "source": [
    "### 6.3.1 Optimal ANN Model"
   ]
  },
  {
   "cell_type": "code",
   "execution_count": 85,
   "metadata": {},
   "outputs": [],
   "source": [
    "mlp = MLPRegressor(solver='lbfgs', alpha=1e-5,\n",
    "                     hidden_layer_sizes=(40, 40, 40, 40, 40, 40, 40), random_state=1)\n",
    "\n",
    "mlp.fit(train_X_norm_imp, train_y_norm)\n",
    "\n",
    "pred_y_MLP = mlp.predict(test_X_norm_imp)"
   ]
  },
  {
   "cell_type": "code",
   "execution_count": 86,
   "metadata": {},
   "outputs": [],
   "source": [
    "# Denormalizing the predicted y\n",
    "pred_y_ANN = train_scale_y.inverse_transform(pred_y_MLP.reshape(-1,1))\n",
    "pred_y_ANN = pd.Series(pred_y_ANN.reshape(pred_y_MLP.shape[0],))"
   ]
  },
  {
   "cell_type": "code",
   "execution_count": 87,
   "metadata": {},
   "outputs": [
    {
     "data": {
      "image/png": "[encoded data removed]",
      "text/plain": [
       "<Figure size 432x288 with 1 Axes>"
      ]
     },
     "metadata": {
      "needs_background": "light"
     },
     "output_type": "display_data"
    }
   ],
   "source": [
    "fig, ax = plt.subplots()\n",
    "ax.scatter(test_y, pred_y_ANN)\n",
    "plt.xlabel('Actual Wage (€)')\n",
    "plt.ylabel('Predicted Wage (€)')\n",
    "line = mlines.Line2D([0, 1], [0, 1], color='red')\n",
    "transform = ax.transAxes\n",
    "line.set_transform(transform)\n",
    "ax.add_line(line)\n",
    "plt.show()"
   ]
  },
  {
   "cell_type": "code",
   "execution_count": 88,
   "metadata": {},
   "outputs": [
    {
     "data": {
      "text/plain": [
       "0.7027931494134934"
      ]
     },
     "execution_count": 88,
     "metadata": {},
     "output_type": "execute_result"
    }
   ],
   "source": [
    "metrics.r2_score(test_y_norm,pred_y_MLP)"
   ]
  },
  {
   "cell_type": "markdown",
   "metadata": {},
   "source": [
    "## 6.4 Gradient Tree Boosting (GTB)"
   ]
  },
  {
   "cell_type": "code",
   "execution_count": 89,
   "metadata": {},
   "outputs": [],
   "source": [
    "from sklearn.ensemble import GradientBoostingRegressor"
   ]
  },
  {
   "cell_type": "code",
   "execution_count": 90,
   "metadata": {},
   "outputs": [
    {
     "data": {
      "text/plain": [
       "{'learning_rate': 0.5,\n",
       " 'max_depth': 2,\n",
       " 'n_estimators': 200,\n",
       " 'random_state': 123}"
      ]
     },
     "execution_count": 90,
     "metadata": {},
     "output_type": "execute_result"
    }
   ],
   "source": [
    "parameters = {'max_depth': [1,2,3,5,10,20],\n",
    "              'n_estimators':[130,140,150,170,200],\n",
    "              'learning_rate':[0.1,0.5,1,2,1],\n",
    "              'random_state':[123]}\n",
    "clf = GradientBoostingRegressor()\n",
    "\n",
    "grid_gtb = GridSearchCV(clf, parameters, scoring='neg_mean_squared_error', cv=5)\n",
    "\n",
    "grid_gtb.fit(train_X_norm_imp, train_y_norm)\n",
    "\n",
    "grid_gtb.best_params_"
   ]
  },
  {
   "cell_type": "markdown",
   "metadata": {},
   "source": [
    "### 6.4.1 Optimal GTB Model"
   ]
  },
  {
   "cell_type": "code",
   "execution_count": 91,
   "metadata": {},
   "outputs": [],
   "source": [
    "gtb = GradientBoostingRegressor(n_estimators=200, learning_rate=0.5,\n",
    "                                 max_depth=2, random_state=123)\n",
    "gtb.fit(train_X_norm_imp, train_y_norm)\n",
    "\n",
    "pred_y_gtb = gtb.predict(test_X_norm_imp)"
   ]
  },
  {
   "cell_type": "code",
   "execution_count": 92,
   "metadata": {},
   "outputs": [],
   "source": [
    "# Denormalizing the predicted y\n",
    "pred_y_GBM = train_scale_y.inverse_transform(pred_y_gtb.reshape(-1,1))\n",
    "pred_y_GBM= pd.Series(pred_y_GBM.reshape(pred_y_gtb.shape[0],))"
   ]
  },
  {
   "cell_type": "code",
   "execution_count": 93,
   "metadata": {},
   "outputs": [
    {
     "data": {
      "image/png": "[encoded data removed]",
      "text/plain": [
       "<Figure size 432x288 with 1 Axes>"
      ]
     },
     "metadata": {
      "needs_background": "light"
     },
     "output_type": "display_data"
    }
   ],
   "source": [
    "fig, ax = plt.subplots()\n",
    "ax.scatter(test_y, pred_y_GBM)\n",
    "plt.xlabel('Actual Wage (€)')\n",
    "plt.ylabel('Predicted Wage (€)')\n",
    "line = mlines.Line2D([0, 1], [0, 1], color='red')\n",
    "transform = ax.transAxes\n",
    "line.set_transform(transform)\n",
    "ax.add_line(line)\n",
    "plt.show()"
   ]
  },
  {
   "cell_type": "code",
   "execution_count": 94,
   "metadata": {},
   "outputs": [
    {
     "data": {
      "text/plain": [
       "0.9213667750433846"
      ]
     },
     "execution_count": 94,
     "metadata": {},
     "output_type": "execute_result"
    }
   ],
   "source": [
    "metrics.r2_score(test_y_norm,pred_y_gtb)"
   ]
  },
  {
   "cell_type": "markdown",
   "metadata": {},
   "source": [
    "## 6.5 Extremely Randomized Trees (ERT)"
   ]
  },
  {
   "cell_type": "code",
   "execution_count": 95,
   "metadata": {},
   "outputs": [],
   "source": [
    "from sklearn.ensemble import ExtraTreesRegressor"
   ]
  },
  {
   "cell_type": "code",
   "execution_count": 96,
   "metadata": {},
   "outputs": [
    {
     "data": {
      "text/plain": [
       "{'max_depth': None,\n",
       " 'min_samples_split': 4,\n",
       " 'n_estimators': 100,\n",
       " 'random_state': 1}"
      ]
     },
     "execution_count": 96,
     "metadata": {},
     "output_type": "execute_result"
    }
   ],
   "source": [
    "parameters = {'max_depth': [None],\n",
    "              'n_estimators':[50,100,150],\n",
    "              'min_samples_split':[2,3,4,5,10,15],\n",
    "              'random_state':[1]}\n",
    "clf = ExtraTreesRegressor()\n",
    "\n",
    "grid_ert = GridSearchCV(clf, parameters, scoring='neg_mean_squared_error', cv=5)\n",
    "\n",
    "grid_ert.fit(train_X_norm_imp, train_y_norm)\n",
    "\n",
    "grid_ert.best_params_"
   ]
  },
  {
   "cell_type": "markdown",
   "metadata": {},
   "source": [
    "### 6.5.1 Optimal ERT Model"
   ]
  },
  {
   "cell_type": "code",
   "execution_count": 97,
   "metadata": {},
   "outputs": [],
   "source": [
    "ert = ExtraTreesRegressor(n_estimators=150, max_depth=None,\n",
    "                           min_samples_split=2, random_state=1)\n",
    "\n",
    "ert.fit(train_X_norm_imp, train_y_norm)\n",
    "\n",
    "pred_y_ert = ert.predict(test_X_norm_imp)"
   ]
  },
  {
   "cell_type": "code",
   "execution_count": 98,
   "metadata": {},
   "outputs": [],
   "source": [
    "# Denormalizing the predicted y\n",
    "pred_y_ERT = train_scale_y.inverse_transform(pred_y_ert.reshape(-1,1))\n",
    "pred_y_ERT = pd.Series(pred_y_ERT.reshape(pred_y_ert.shape[0],))"
   ]
  },
  {
   "cell_type": "code",
   "execution_count": 99,
   "metadata": {},
   "outputs": [
    {
     "data": {
      "image/png": "[encoded data removed]",
      "text/plain": [
       "<Figure size 432x288 with 1 Axes>"
      ]
     },
     "metadata": {
      "needs_background": "light"
     },
     "output_type": "display_data"
    }
   ],
   "source": [
    "fig, ax = plt.subplots()\n",
    "ax.scatter(test_y, pred_y_ERT)\n",
    "plt.xlabel('Actual Wage (€)')\n",
    "plt.ylabel('Predicted Wage (€)')\n",
    "line = mlines.Line2D([0, 1], [0, 1], color='red')\n",
    "transform = ax.transAxes\n",
    "line.set_transform(transform)\n",
    "ax.add_line(line)\n",
    "plt.show()"
   ]
  },
  {
   "cell_type": "code",
   "execution_count": 100,
   "metadata": {},
   "outputs": [
    {
     "data": {
      "text/plain": [
       "0.8796725562969877"
      ]
     },
     "execution_count": 100,
     "metadata": {},
     "output_type": "execute_result"
    }
   ],
   "source": [
    "metrics.r2_score(test_y_norm,pred_y_ert)"
   ]
  },
  {
   "cell_type": "markdown",
   "metadata": {},
   "source": [
    "## 6.6 Comparing the Performance of All the Models "
   ]
  },
  {
   "cell_type": "code",
   "execution_count": 101,
   "metadata": {},
   "outputs": [],
   "source": [
    "from math import sqrt"
   ]
  },
  {
   "cell_type": "code",
   "execution_count": 102,
   "metadata": {},
   "outputs": [],
   "source": [
    "MAE = [metrics.mean_absolute_error(test_y,pred_y_RF),\n",
    "      metrics.mean_absolute_error(test_y,pred_y_SVM),\n",
    "      metrics.mean_absolute_error(test_y,pred_y_ANN),\n",
    "      metrics.mean_absolute_error(test_y,pred_y_GBM),\n",
    "      metrics.mean_absolute_error(test_y,pred_y_ERT)]\n",
    "\n",
    "MSE = [metrics.mean_squared_error(test_y,pred_y_RF),\n",
    "      metrics.mean_squared_error(test_y,pred_y_SVM),\n",
    "      metrics.mean_squared_error(test_y,pred_y_ANN),\n",
    "      metrics.mean_squared_error(test_y,pred_y_GBM),\n",
    "      metrics.mean_squared_error(test_y,pred_y_ERT)]\n",
    "\n",
    "RMSE = [sqrt(metrics.mean_squared_error(test_y,pred_y_RF)),\n",
    "      sqrt(metrics.mean_squared_error(test_y,pred_y_SVM)),\n",
    "      sqrt(metrics.mean_squared_error(test_y,pred_y_ANN)),\n",
    "      sqrt(metrics.mean_squared_error(test_y,pred_y_GBM)),\n",
    "      sqrt(metrics.mean_squared_error(test_y,pred_y_ERT))]\n",
    "\n",
    "R2 = [metrics.r2_score(test_y,pred_y_RF),\n",
    "      metrics.r2_score(test_y,pred_y_SVM),\n",
    "      metrics.r2_score(test_y,pred_y_ANN),\n",
    "      metrics.r2_score(test_y,pred_y_GBM),\n",
    "      metrics.r2_score(test_y,pred_y_ERT)]\n"
   ]
  },
  {
   "cell_type": "code",
   "execution_count": 103,
   "metadata": {},
   "outputs": [
    {
     "data": {
      "text/html": [
       "<div>\n",
       "<style scoped>\n",
       "    .dataframe tbody tr th:only-of-type {\n",
       "        vertical-align: middle;\n",
       "    }\n",
       "\n",
       "    .dataframe tbody tr th {\n",
       "        vertical-align: top;\n",
       "    }\n",
       "\n",
       "    .dataframe thead th {\n",
       "        text-align: right;\n",
       "    }\n",
       "</style>\n",
       "<table border=\"1\" class=\"dataframe\">\n",
       "  <thead>\n",
       "    <tr style=\"text-align: right;\">\n",
       "      <th></th>\n",
       "      <th>MAE</th>\n",
       "      <th>MSE</th>\n",
       "      <th>RMSE</th>\n",
       "      <th>R-Squared</th>\n",
       "    </tr>\n",
       "  </thead>\n",
       "  <tbody>\n",
       "    <tr>\n",
       "      <th>Random Forest</th>\n",
       "      <td>3514.729620</td>\n",
       "      <td>7.299936e+07</td>\n",
       "      <td>8543.966296</td>\n",
       "      <td>0.853583</td>\n",
       "    </tr>\n",
       "    <tr>\n",
       "      <th>Support Vector Machine</th>\n",
       "      <td>11556.536642</td>\n",
       "      <td>2.420702e+08</td>\n",
       "      <td>15558.606347</td>\n",
       "      <td>0.514471</td>\n",
       "    </tr>\n",
       "    <tr>\n",
       "      <th>Multi-Layer Perceptron</th>\n",
       "      <td>6414.115853</td>\n",
       "      <td>1.481786e+08</td>\n",
       "      <td>12172.862399</td>\n",
       "      <td>0.702793</td>\n",
       "    </tr>\n",
       "    <tr>\n",
       "      <th>Gradient Tree Boosting</th>\n",
       "      <td>3042.660113</td>\n",
       "      <td>3.920421e+07</td>\n",
       "      <td>6261.326470</td>\n",
       "      <td>0.921367</td>\n",
       "    </tr>\n",
       "    <tr>\n",
       "      <th>Extremely Randomized Tree</th>\n",
       "      <td>3336.011815</td>\n",
       "      <td>5.999172e+07</td>\n",
       "      <td>7745.432084</td>\n",
       "      <td>0.879673</td>\n",
       "    </tr>\n",
       "  </tbody>\n",
       "</table>\n",
       "</div>"
      ],
      "text/plain": [
       "                                    MAE           MSE          RMSE  R-Squared\n",
       "Random Forest               3514.729620  7.299936e+07   8543.966296   0.853583\n",
       "Support Vector Machine     11556.536642  2.420702e+08  15558.606347   0.514471\n",
       "Multi-Layer Perceptron      6414.115853  1.481786e+08  12172.862399   0.702793\n",
       "Gradient Tree Boosting      3042.660113  3.920421e+07   6261.326470   0.921367\n",
       "Extremely Randomized Tree   3336.011815  5.999172e+07   7745.432084   0.879673"
      ]
     },
     "execution_count": 103,
     "metadata": {},
     "output_type": "execute_result"
    }
   ],
   "source": [
    "Model_perf = pd.DataFrame({'MAE':MAE, 'MSE':MSE,\n",
    "                           'RMSE':RMSE,'R-Squared':R2},\n",
    "                         index = ['Random Forest', 'Support Vector Machine', 'Multi-Layer Perceptron', \n",
    "                                  'Gradient Tree Boosting', 'Extremely Randomized Tree'])\n",
    "Model_perf"
   ]
  },
  {
   "cell_type": "markdown",
   "metadata": {},
   "source": [
    "**From the performance metrics above, it is seen that the ensemble method, Gradient Tree Boosting has the best performance in terms of all the metrics except in mean absolute error. Support Vector Machine has the worse performace. It is worse in all the metrics.**\n",
    "\n",
    "**So for our project, we selected Gradient Tree Boosting model which has an R-squared of 92.57 for predicting the Wages of soccer players.**"
   ]
  },
  {
   "cell_type": "markdown",
   "metadata": {},
   "source": [
    "# 7. Final Predictive Model "
   ]
  },
  {
   "cell_type": "code",
   "execution_count": 104,
   "metadata": {},
   "outputs": [],
   "source": [
    "gtb = GradientBoostingRegressor(n_estimators=200, learning_rate=0.5,\n",
    "                                 max_depth=2, random_state=123)\n",
    "gtb.fit(train_X_norm_imp, train_y_norm)\n",
    "\n",
    "pred_y_gtb = gtb.predict(test_X_norm_imp)"
   ]
  },
  {
   "cell_type": "markdown",
   "metadata": {},
   "source": [
    "## 7.1. Metrics of Final Model"
   ]
  },
  {
   "cell_type": "code",
   "execution_count": 105,
   "metadata": {},
   "outputs": [
    {
     "data": {
      "text/html": [
       "<div>\n",
       "<style scoped>\n",
       "    .dataframe tbody tr th:only-of-type {\n",
       "        vertical-align: middle;\n",
       "    }\n",
       "\n",
       "    .dataframe tbody tr th {\n",
       "        vertical-align: top;\n",
       "    }\n",
       "\n",
       "    .dataframe thead th {\n",
       "        text-align: right;\n",
       "    }\n",
       "</style>\n",
       "<table border=\"1\" class=\"dataframe\">\n",
       "  <thead>\n",
       "    <tr style=\"text-align: right;\">\n",
       "      <th></th>\n",
       "      <th>MAE</th>\n",
       "      <th>MSE</th>\n",
       "      <th>RMSE</th>\n",
       "      <th>R-Squared</th>\n",
       "    </tr>\n",
       "  </thead>\n",
       "  <tbody>\n",
       "    <tr>\n",
       "      <th>Gradient Tree Boosting</th>\n",
       "      <td>3042.660113</td>\n",
       "      <td>3.920421e+07</td>\n",
       "      <td>6261.32647</td>\n",
       "      <td>0.921367</td>\n",
       "    </tr>\n",
       "  </tbody>\n",
       "</table>\n",
       "</div>"
      ],
      "text/plain": [
       "                                MAE           MSE        RMSE  R-Squared\n",
       "Gradient Tree Boosting  3042.660113  3.920421e+07  6261.32647   0.921367"
      ]
     },
     "execution_count": 105,
     "metadata": {},
     "output_type": "execute_result"
    }
   ],
   "source": [
    "pd.DataFrame({'MAE':metrics.mean_absolute_error(test_y,pred_y_GBM),\n",
    "              'MSE':metrics.mean_squared_error(test_y,pred_y_GBM),\n",
    "              'RMSE':sqrt(metrics.mean_squared_error(test_y,pred_y_GBM)),\n",
    "              'R-Squared':metrics.r2_score(test_y,pred_y_GBM)}, index = ['Gradient Tree Boosting'])"
   ]
  },
  {
   "cell_type": "markdown",
   "metadata": {},
   "source": [
    "# Summary\n",
    "\n",
    "From the analysis, it is observed that Wages, Value and Release Clause are positively correlated with the player overall rating and potential rating but the relation is not linear.\n",
    "\n",
    "Five predictive models were applied and obtained great predictive capabilities with R-squared as high as 0.92. The models can be applied for the prediction of wages of players"
   ]
  }
 ],
 "metadata": {
  "kernelspec": {
   "display_name": "Python 3",
   "language": "python",
   "name": "python3"
  },
  "language_info": {
   "codemirror_mode": {
    "name": "ipython",
    "version": 3
   },
   "file_extension": ".py",
   "mimetype": "text/x-python",
   "name": "python",
   "nbconvert_exporter": "python",
   "pygments_lexer": "ipython3",
   "version": "3.7.9"
  }
 },
 "nbformat": 4,
 "nbformat_minor": 2
}
